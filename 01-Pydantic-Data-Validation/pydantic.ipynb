{
 "cells": [
  {
   "cell_type": "code",
   "execution_count": 14,
   "id": "642fe2c1",
   "metadata": {},
   "outputs": [],
   "source": [
    "from typing import TypedDict, Optional\n",
    "\n",
    "class Person(TypedDict):\n",
    "    name: str\n",
    "    age: float\n",
    "    zipCode: str"
   ]
  },
  {
   "cell_type": "code",
   "execution_count": 2,
   "id": "5ef1b589",
   "metadata": {},
   "outputs": [],
   "source": [
    "alamin = Person(\n",
    "    name=\"Md Al Amin\",\n",
    "    age=25,\n",
    "    zipCode='1229'\n",
    ")"
   ]
  },
  {
   "cell_type": "code",
   "execution_count": 3,
   "id": "7de8d23f",
   "metadata": {},
   "outputs": [
    {
     "name": "stdout",
     "output_type": "stream",
     "text": [
      "{'name': 'Md Al Amin', 'age': 25, 'zipCode': '1229'}\n"
     ]
    }
   ],
   "source": [
    "print(alamin)"
   ]
  },
  {
   "cell_type": "code",
   "execution_count": 5,
   "id": "d3a5c171",
   "metadata": {},
   "outputs": [
    {
     "data": {
      "text/plain": [
       "25"
      ]
     },
     "execution_count": 5,
     "metadata": {},
     "output_type": "execute_result"
    }
   ],
   "source": [
    "alamin['age']"
   ]
  },
  {
   "cell_type": "code",
   "execution_count": 6,
   "id": "d0de851f",
   "metadata": {},
   "outputs": [],
   "source": [
    "alamin = Person(\n",
    "    name=\"Md Al Amin\",\n",
    "    age=25,\n",
    "    zipCode= 1229\n",
    ")"
   ]
  },
  {
   "cell_type": "markdown",
   "id": "73a0bf12",
   "metadata": {},
   "source": [
    "### Above the code `see` i pass a wrong data format but this class is not give an any kind of error.\n",
    "- This is way we need data validation class \n",
    "- Data validation implement by the Pydantic class\n",
    "- Pydantic is the well know data validation and its produce lots of property which help to implement the best `data object` class"
   ]
  },
  {
   "cell_type": "code",
   "execution_count": 16,
   "id": "49b752ee",
   "metadata": {},
   "outputs": [],
   "source": [
    "from pydantic import BaseModel, Field\n",
    "class Person(BaseModel):\n",
    "    name: str\n",
    "    age: int\n",
    "    zipCode: str\n",
    "    "
   ]
  },
  {
   "cell_type": "code",
   "execution_count": 9,
   "id": "4d6eceee",
   "metadata": {},
   "outputs": [
    {
     "name": "stdout",
     "output_type": "stream",
     "text": [
      "1 validation error for Person\n",
      "zipCode\n",
      "  Input should be a valid string [type=string_type, input_value=1229, input_type=int]\n",
      "    For further information visit https://errors.pydantic.dev/2.11/v/string_type\n"
     ]
    }
   ],
   "source": [
    "try:\n",
    "    alamin = Person(\n",
    "    name=\"Md Al Amin\",\n",
    "    age=25,\n",
    "    zipCode= 1229\n",
    ")\n",
    "except Exception as e:\n",
    "    print(e)"
   ]
  },
  {
   "cell_type": "code",
   "execution_count": 12,
   "id": "71e1d71b",
   "metadata": {},
   "outputs": [
    {
     "name": "stdout",
     "output_type": "stream",
     "text": [
      "name='Md Al Amin' age=25 zipCode='1229'\n"
     ]
    }
   ],
   "source": [
    "try:\n",
    "    alamin = Person(\n",
    "    name=\"Md Al Amin\",\n",
    "    age=25,\n",
    "    zipCode= \"1229\"\n",
    "    )\n",
    "    print(alamin)\n",
    "except Exception as e:\n",
    "    print(e)"
   ]
  },
  {
   "cell_type": "markdown",
   "id": "9d52239e",
   "metadata": {},
   "source": [
    "## Create Nested class"
   ]
  },
  {
   "cell_type": "code",
   "execution_count": 18,
   "id": "81a2a296",
   "metadata": {},
   "outputs": [],
   "source": [
    "class Address(BaseModel):\n",
    "    country: str\n",
    "    city: str\n",
    "    home_town: Optional[str]=None\n",
    "    area: Optional[str]=\"Bashundhara r/a\"\n",
    "    "
   ]
  },
  {
   "cell_type": "code",
   "execution_count": 19,
   "id": "fa044cdd",
   "metadata": {},
   "outputs": [],
   "source": [
    "class Customer(BaseModel):\n",
    "    name: str = Field(max_length=10, min_length=2)\n",
    "    user_id: str = Field(default=\"10001\", description=\"This user id and its should be Unique.\")\n",
    "    address: Address\n",
    "    salary: float = Field(gt=1000, le=5000, default=3500, description=\"This is user salary and its less then 5000 USD.\")"
   ]
  },
  {
   "cell_type": "code",
   "execution_count": 21,
   "id": "664827da",
   "metadata": {},
   "outputs": [
    {
     "name": "stdout",
     "output_type": "stream",
     "text": [
      "name='Md Al Amin' user_id='C00001' address=Address(country='Bangladesh', city='Dhk', home_town=None, area='Bashundhara r/a') salary=2000.0\n"
     ]
    }
   ],
   "source": [
    "cus_1 = Customer(name=\"Md Al Amin\", user_id=\"C00001\", address={'country': \"Bangladesh\", \"city\": \"Dhk\"}, salary=2000)\n",
    "print(cus_1)"
   ]
  },
  {
   "cell_type": "code",
   "execution_count": 26,
   "id": "b7a2d68d",
   "metadata": {},
   "outputs": [
    {
     "data": {
      "text/plain": [
       "{'name': 'Md Al Amin',\n",
       " 'user_id': 'C00001',\n",
       " 'address': {'country': 'Bangladesh',\n",
       "  'city': 'Dhk',\n",
       "  'home_town': None,\n",
       "  'area': 'Bashundhara r/a'},\n",
       " 'salary': 2000.0}"
      ]
     },
     "execution_count": 26,
     "metadata": {},
     "output_type": "execute_result"
    }
   ],
   "source": [
    "cus_dict = cus_1.model_dump()\n",
    "cus_dict"
   ]
  },
  {
   "cell_type": "code",
   "execution_count": 27,
   "id": "e7deb476",
   "metadata": {},
   "outputs": [
    {
     "data": {
      "text/plain": [
       "'Bashundhara r/a'"
      ]
     },
     "execution_count": 27,
     "metadata": {},
     "output_type": "execute_result"
    }
   ],
   "source": [
    "cus_dict['address']['area']"
   ]
  },
  {
   "cell_type": "markdown",
   "id": "a9854e5e",
   "metadata": {},
   "source": [
    "## Structured output by Pydantic"
   ]
  },
  {
   "cell_type": "code",
   "execution_count": 28,
   "id": "ebae28d0",
   "metadata": {},
   "outputs": [],
   "source": [
    "text = \"\"\"\n",
    "Assalamualikum, my name is alamin, i'm form Jhenidha, i complete my ssc and hsc in my home town name is Horinakunda. recently i comple my UG from North south university from ECE department and majoring in CSE.\n",
    "\"\"\""
   ]
  },
  {
   "cell_type": "code",
   "execution_count": 37,
   "id": "a34693bd",
   "metadata": {},
   "outputs": [],
   "source": [
    "class Student(BaseModel):\n",
    "    name: str\n",
    "    district: str\n",
    "    hometown: Optional[str] = Field(description=\"The home town of the student\")\n",
    "    university_name: Optional[str] = Field(description=\"University name of the student.\")\n",
    "    department: Optional[str] = Field(description=\"Student university name\")\n",
    "    major: Optional[str] = Field(description=\"Major Subject\")\n",
    "    "
   ]
  },
  {
   "cell_type": "code",
   "execution_count": 31,
   "id": "89468d57",
   "metadata": {},
   "outputs": [],
   "source": [
    "from langchain_groq import ChatGroq\n",
    "import os\n",
    "from dotenv import load_dotenv\n",
    "load_dotenv()\n",
    "\n",
    "os.environ[\"GROQ_API_KEY\"] = os.getenv(\"GROQ_API_KEY\")\n",
    "\n",
    "model = ChatGroq(model=\"meta-llama/llama-4-scout-17b-16e-instruct\")"
   ]
  },
  {
   "cell_type": "code",
   "execution_count": 38,
   "id": "a0a516ce",
   "metadata": {},
   "outputs": [],
   "source": [
    "model_with_structured_output = model.with_structured_output(Student)"
   ]
  },
  {
   "cell_type": "code",
   "execution_count": 39,
   "id": "a23e013e",
   "metadata": {},
   "outputs": [
    {
     "data": {
      "text/plain": [
       "Student(name='Alamin', district='Jhenidha', hometown='Horinakunda', university_name='North South University', department='ECE', major='CSE')"
      ]
     },
     "execution_count": 39,
     "metadata": {},
     "output_type": "execute_result"
    }
   ],
   "source": [
    "response = model_with_structured_output.invoke(text)\n",
    "response"
   ]
  },
  {
   "cell_type": "code",
   "execution_count": null,
   "id": "bad5fc1a",
   "metadata": {},
   "outputs": [],
   "source": []
  }
 ],
 "metadata": {
  "kernelspec": {
   "display_name": "Python 3",
   "language": "python",
   "name": "python3"
  },
  "language_info": {
   "codemirror_mode": {
    "name": "ipython",
    "version": 3
   },
   "file_extension": ".py",
   "mimetype": "text/x-python",
   "name": "python",
   "nbconvert_exporter": "python",
   "pygments_lexer": "ipython3",
   "version": "3.12.0"
  }
 },
 "nbformat": 4,
 "nbformat_minor": 5
}

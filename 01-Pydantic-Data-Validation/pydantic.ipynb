{
 "cells": [
  {
   "cell_type": "code",
   "execution_count": 1,
   "id": "642fe2c1",
   "metadata": {},
   "outputs": [],
   "source": [
    "from typing import TypedDict\n",
    "\n",
    "class Person(TypedDict):\n",
    "    name: str\n",
    "    age: float\n",
    "    zipCode: str"
   ]
  },
  {
   "cell_type": "code",
   "execution_count": 2,
   "id": "5ef1b589",
   "metadata": {},
   "outputs": [],
   "source": [
    "alamin = Person(\n",
    "    name=\"Md Al Amin\",\n",
    "    age=25,\n",
    "    zipCode='1229'\n",
    ")"
   ]
  },
  {
   "cell_type": "code",
   "execution_count": 3,
   "id": "7de8d23f",
   "metadata": {},
   "outputs": [
    {
     "name": "stdout",
     "output_type": "stream",
     "text": [
      "{'name': 'Md Al Amin', 'age': 25, 'zipCode': '1229'}\n"
     ]
    }
   ],
   "source": [
    "print(alamin)"
   ]
  },
  {
   "cell_type": "code",
   "execution_count": 5,
   "id": "d3a5c171",
   "metadata": {},
   "outputs": [
    {
     "data": {
      "text/plain": [
       "25"
      ]
     },
     "execution_count": 5,
     "metadata": {},
     "output_type": "execute_result"
    }
   ],
   "source": [
    "alamin['age']"
   ]
  },
  {
   "cell_type": "code",
   "execution_count": 6,
   "id": "d0de851f",
   "metadata": {},
   "outputs": [],
   "source": [
    "alamin = Person(\n",
    "    name=\"Md Al Amin\",\n",
    "    age=25,\n",
    "    zipCode= 1229\n",
    ")"
   ]
  },
  {
   "cell_type": "markdown",
   "id": "73a0bf12",
   "metadata": {},
   "source": [
    "### Above the code `see` i pass a wrong data format but this class is not give an any kind of error.\n",
    "- This is way we need data validation class \n",
    "- Data validation implement by the Pydantic class\n",
    "- Pydantic is the well know data validation and its produce lots of property which help to implement the best `data object` class"
   ]
  },
  {
   "cell_type": "code",
   "execution_count": null,
   "id": "49b752ee",
   "metadata": {},
   "outputs": [],
   "source": []
  }
 ],
 "metadata": {
  "kernelspec": {
   "display_name": "Python 3",
   "language": "python",
   "name": "python3"
  },
  "language_info": {
   "codemirror_mode": {
    "name": "ipython",
    "version": 3
   },
   "file_extension": ".py",
   "mimetype": "text/x-python",
   "name": "python",
   "nbconvert_exporter": "python",
   "pygments_lexer": "ipython3",
   "version": "3.12.0"
  }
 },
 "nbformat": 4,
 "nbformat_minor": 5
}

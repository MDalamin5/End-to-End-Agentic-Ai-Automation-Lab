{
 "cells": [
  {
   "cell_type": "markdown",
   "id": "c3bfb2a6",
   "metadata": {},
   "source": [
    "## **Apply Business Rule in Data validation**\n",
    "- want extract specific company email for discounting."
   ]
  },
  {
   "cell_type": "code",
   "execution_count": null,
   "id": "43a2cb98",
   "metadata": {},
   "outputs": [
    {
     "name": "stdout",
     "output_type": "stream",
     "text": [
      "Md Al Amin\n",
      "['item1', 'item2']\n",
      "False\n",
      "{'phone': '017xxxx', 'emergency_contact': '019xxxx'}\n",
      "====data inserted====\n"
     ]
    }
   ],
   "source": [
    "from pydantic import BaseModel, EmailStr, AnyUrl, Field, field_validator, model_validator\n",
    "from typing import List, Dict, Literal, Annotated, Optional\n",
    "\n",
    "class Patient(BaseModel):\n",
    "    name: str \n",
    "    age: int \n",
    "    email: EmailStr\n",
    "    linkedin_url: AnyUrl\n",
    "    weight: float\n",
    "    married: bool\n",
    "    allergies: List[str] \n",
    "    contact_details: Dict[str, str]\n",
    "    \n",
    "    ## The goal is to checking in the email is northsouth email or not.\n",
    "    @field_validator('email')\n",
    "    @classmethod\n",
    "    def email_validator(cls, value):   # using 'cls' variable i can use other method in the class by cls variable\n",
    "        valid_domain = ['nsu.edu', 'iub.edu']\n",
    "        \n",
    "        domain_name = value.split('@')[-1]\n",
    "        \n",
    "        if domain_name not in valid_domain:\n",
    "            raise ValueError(\"Not the valid domain Student\")\n",
    "        \n",
    "        return value\n",
    "    \n",
    "    \n",
    "    \n",
    "def insert_patient_data(patient: Patient):\n",
    "    print(patient.name)\n",
    "    print(patient.allergies)\n",
    "    print(patient.married)\n",
    "    print(patient.contact_details)\n",
    "    # print(patient.contact_details['emergency_contact'])\n",
    "    # print(patient.email, \" \", patient.linkedin_url)\n",
    "    \n",
    "    print(\"====data inserted====\")\n",
    "    \n",
    "    \n",
    "profile = {\n",
    "    \"name\": \"Md Al Amin\",\n",
    "    \"age\": 25,\n",
    "    \"weight\": 67,\n",
    "    \"married\": False,\n",
    "    \"email\": \"hello@nsu.edu\",\n",
    "    \"linkedin_url\": \"https://hello.com\",\n",
    "    \"allergies\": [\"item1\", \"item2\"],\n",
    "    \"contact_details\": {\n",
    "        \"phone\": \"017xxxx\",\n",
    "        \"emergency_contact\": \"019xxxx\"\n",
    "    },\n",
    "}\n",
    "\n",
    "p001 = Patient(**profile)\n",
    "insert_patient_data(p001)"
   ]
  },
  {
   "cell_type": "code",
   "execution_count": null,
   "id": "ad61c13b",
   "metadata": {},
   "outputs": [],
   "source": []
  }
 ],
 "metadata": {
  "kernelspec": {
   "display_name": "Python 3",
   "language": "python",
   "name": "python3"
  },
  "language_info": {
   "codemirror_mode": {
    "name": "ipython",
    "version": 3
   },
   "file_extension": ".py",
   "mimetype": "text/x-python",
   "name": "python",
   "nbconvert_exporter": "python",
   "pygments_lexer": "ipython3",
   "version": "3.12.0"
  }
 },
 "nbformat": 4,
 "nbformat_minor": 5
}

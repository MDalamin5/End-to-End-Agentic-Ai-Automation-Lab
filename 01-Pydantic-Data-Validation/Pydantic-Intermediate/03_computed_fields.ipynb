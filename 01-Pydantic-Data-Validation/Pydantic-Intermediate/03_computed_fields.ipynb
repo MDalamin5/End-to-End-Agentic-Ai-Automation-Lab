{
 "cells": [
  {
   "cell_type": "markdown",
   "id": "59501d6a",
   "metadata": {},
   "source": [
    "## ***Pydantic Computed Field***\n",
    "- Parameter update based on other parameter\n",
    "- e.g. if has `age` and `weight` we can calculate `bmi`."
   ]
  },
  {
   "cell_type": "code",
   "execution_count": 4,
   "id": "efff610e",
   "metadata": {},
   "outputs": [
    {
     "name": "stdout",
     "output_type": "stream",
     "text": [
      "Md Al Amin\n",
      "['item1', 'item2']\n",
      "False\n",
      "{'phone': '017xxxx'}\n",
      "Computed field BMI 19.62\n",
      "====data inserted====\n"
     ]
    }
   ],
   "source": [
    "from pydantic import BaseModel, EmailStr, AnyUrl, computed_field\n",
    "from typing import List, Dict, Literal, Annotated, Optional\n",
    "\n",
    "class Patient(BaseModel):\n",
    "    name: str \n",
    "    age: int \n",
    "    email: EmailStr\n",
    "    linkedin_url: AnyUrl\n",
    "    weight: float # kg\n",
    "    height: float # mtr\n",
    "    married: bool\n",
    "    allergies: List[str] \n",
    "    contact_details: Dict[str, str]\n",
    "    \n",
    "    \n",
    "    @computed_field\n",
    "    @property\n",
    "    def bmi(self) -> float:\n",
    "        return round(self.weight / (self.height**2), 2)\n",
    "    \n",
    "    \n",
    "    \n",
    "def insert_patient_data(patient: Patient):\n",
    "    print(patient.name)\n",
    "    print(patient.allergies)\n",
    "    print(patient.married)\n",
    "    print(patient.contact_details)\n",
    "    print(\"Computed field BMI\", patient.bmi)\n",
    "    # print(patient.contact_details['emergency_contact'])\n",
    "    # print(patient.email, \" \", patient.linkedin_url)\n",
    "    \n",
    "    print(\"====data inserted====\")\n",
    "    \n",
    "    \n",
    "profile = {\n",
    "    \"name\": \"Md Al Amin\",\n",
    "    \"age\": '26',\n",
    "    \"weight\": 65,\n",
    "    \"height\": 1.82,\n",
    "    \"married\": False,\n",
    "    \"email\": \"hello@nsu.edu\",\n",
    "    \"linkedin_url\": \"https://hello.com\",\n",
    "    \"allergies\": [\"item1\", \"item2\"],\n",
    "    \"contact_details\": {\n",
    "        \"phone\": \"017xxxx\",\n",
    "            # there is not emergency contact but age is 25 so its not give any error\n",
    "    },\n",
    "}\n",
    "\n",
    "p001 = Patient(**profile)\n",
    "insert_patient_data(p001)"
   ]
  },
  {
   "cell_type": "code",
   "execution_count": null,
   "id": "76d69b3e",
   "metadata": {},
   "outputs": [],
   "source": []
  }
 ],
 "metadata": {
  "kernelspec": {
   "display_name": "Python 3",
   "language": "python",
   "name": "python3"
  },
  "language_info": {
   "codemirror_mode": {
    "name": "ipython",
    "version": 3
   },
   "file_extension": ".py",
   "mimetype": "text/x-python",
   "name": "python",
   "nbconvert_exporter": "python",
   "pygments_lexer": "ipython3",
   "version": "3.12.0"
  }
 },
 "nbformat": 4,
 "nbformat_minor": 5
}

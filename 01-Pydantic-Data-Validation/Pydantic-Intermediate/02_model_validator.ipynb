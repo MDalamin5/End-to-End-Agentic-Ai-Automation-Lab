{
 "cells": [
  {
   "cell_type": "markdown",
   "id": "141f6a1e",
   "metadata": {},
   "source": [
    "## ***Goal***\n",
    "- i want to apply multiple validator at a time e.g.\n",
    "- if `patient` age is getter than 50 than he have to be an `emergency` contact number"
   ]
  },
  {
   "cell_type": "code",
   "execution_count": 7,
   "id": "b469eb8f",
   "metadata": {},
   "outputs": [
    {
     "name": "stdout",
     "output_type": "stream",
     "text": [
      "Md Al Amin\n",
      "['item1', 'item2']\n",
      "False\n",
      "{'phone': '017xxxx'}\n",
      "====data inserted====\n"
     ]
    }
   ],
   "source": [
    "from pydantic import BaseModel, EmailStr, AnyUrl, field_validator, model_validator\n",
    "from typing import List, Dict, Literal, Annotated, Optional\n",
    "\n",
    "class Patient(BaseModel):\n",
    "    name: str \n",
    "    age: int \n",
    "    email: EmailStr\n",
    "    linkedin_url: AnyUrl\n",
    "    weight: float\n",
    "    married: bool\n",
    "    allergies: List[str] \n",
    "    contact_details: Dict[str, str]\n",
    "    \n",
    "    @model_validator(mode='after')\n",
    "    def age_emergency_con_validator(cls, model):\n",
    "        if model.age > 50 and 'emergency_contact' not in model.contact_details:\n",
    "            raise ValueError(\"Age is getter then 50 so need a emergency contact\")\n",
    "        return model\n",
    "    \n",
    "    \n",
    "    \n",
    "def insert_patient_data(patient: Patient):\n",
    "    print(patient.name)\n",
    "    print(patient.allergies)\n",
    "    print(patient.married)\n",
    "    print(patient.contact_details)\n",
    "    # print(patient.contact_details['emergency_contact'])\n",
    "    # print(patient.email, \" \", patient.linkedin_url)\n",
    "    \n",
    "    print(\"====data inserted====\")\n",
    "    \n",
    "    \n",
    "profile = {\n",
    "    \"name\": \"Md Al Amin\",\n",
    "    \"age\": '25',\n",
    "    \"weight\": 67,\n",
    "    \"married\": False,\n",
    "    \"email\": \"hello@nsu.edu\",\n",
    "    \"linkedin_url\": \"https://hello.com\",\n",
    "    \"allergies\": [\"item1\", \"item2\"],\n",
    "    \"contact_details\": {\n",
    "        \"phone\": \"017xxxx\",\n",
    "            # there is not emergency contact but age is 25 so its not give any error\n",
    "    },\n",
    "}\n",
    "\n",
    "p001 = Patient(**profile)\n",
    "insert_patient_data(p001)"
   ]
  },
  {
   "cell_type": "code",
   "execution_count": null,
   "id": "7aeffc5e",
   "metadata": {},
   "outputs": [
    {
     "ename": "ValidationError",
     "evalue": "1 validation error for Patient\n  Value error, Age is getter then 50 so need a emergency contact [type=value_error, input_value={'name': 'Md Al Amin', 'a...': {'phone': '017xxxx'}}, input_type=dict]\n    For further information visit https://errors.pydantic.dev/2.11/v/value_error",
     "output_type": "error",
     "traceback": [
      "\u001b[31m---------------------------------------------------------------------------\u001b[39m",
      "\u001b[31mValidationError\u001b[39m                           Traceback (most recent call last)",
      "\u001b[36mCell\u001b[39m\u001b[36m \u001b[39m\u001b[32mIn[5]\u001b[39m\u001b[32m, line 14\u001b[39m\n\u001b[32m      1\u001b[39m profile = {\n\u001b[32m      2\u001b[39m     \u001b[33m\"\u001b[39m\u001b[33mname\u001b[39m\u001b[33m\"\u001b[39m: \u001b[33m\"\u001b[39m\u001b[33mMd Al Amin\u001b[39m\u001b[33m\"\u001b[39m,\n\u001b[32m      3\u001b[39m     \u001b[33m\"\u001b[39m\u001b[33mage\u001b[39m\u001b[33m\"\u001b[39m: \u001b[33m'\u001b[39m\u001b[33m65\u001b[39m\u001b[33m'\u001b[39m,\n\u001b[32m   (...)\u001b[39m\u001b[32m     11\u001b[39m     },\n\u001b[32m     12\u001b[39m }\n\u001b[32m---> \u001b[39m\u001b[32m14\u001b[39m p001 = \u001b[43mPatient\u001b[49m\u001b[43m(\u001b[49m\u001b[43m*\u001b[49m\u001b[43m*\u001b[49m\u001b[43mprofile\u001b[49m\u001b[43m)\u001b[49m\n\u001b[32m     15\u001b[39m insert_patient_data(p001)\n",
      "\u001b[36mFile \u001b[39m\u001b[32m~\\AppData\\Roaming\\Python\\Python312\\site-packages\\pydantic\\main.py:253\u001b[39m, in \u001b[36mBaseModel.__init__\u001b[39m\u001b[34m(self, **data)\u001b[39m\n\u001b[32m    251\u001b[39m \u001b[38;5;66;03m# `__tracebackhide__` tells pytest and some other tools to omit this function from tracebacks\u001b[39;00m\n\u001b[32m    252\u001b[39m __tracebackhide__ = \u001b[38;5;28;01mTrue\u001b[39;00m\n\u001b[32m--> \u001b[39m\u001b[32m253\u001b[39m validated_self = \u001b[38;5;28;43mself\u001b[39;49m\u001b[43m.\u001b[49m\u001b[43m__pydantic_validator__\u001b[49m\u001b[43m.\u001b[49m\u001b[43mvalidate_python\u001b[49m\u001b[43m(\u001b[49m\u001b[43mdata\u001b[49m\u001b[43m,\u001b[49m\u001b[43m \u001b[49m\u001b[43mself_instance\u001b[49m\u001b[43m=\u001b[49m\u001b[38;5;28;43mself\u001b[39;49m\u001b[43m)\u001b[49m\n\u001b[32m    254\u001b[39m \u001b[38;5;28;01mif\u001b[39;00m \u001b[38;5;28mself\u001b[39m \u001b[38;5;129;01mis\u001b[39;00m \u001b[38;5;129;01mnot\u001b[39;00m validated_self:\n\u001b[32m    255\u001b[39m     warnings.warn(\n\u001b[32m    256\u001b[39m         \u001b[33m'\u001b[39m\u001b[33mA custom validator is returning a value other than `self`.\u001b[39m\u001b[38;5;130;01m\\n\u001b[39;00m\u001b[33m'\u001b[39m\n\u001b[32m    257\u001b[39m         \u001b[33m\"\u001b[39m\u001b[33mReturning anything other than `self` from a top level model validator isn\u001b[39m\u001b[33m'\u001b[39m\u001b[33mt supported when validating via `__init__`.\u001b[39m\u001b[38;5;130;01m\\n\u001b[39;00m\u001b[33m\"\u001b[39m\n\u001b[32m    258\u001b[39m         \u001b[33m'\u001b[39m\u001b[33mSee the `model_validator` docs (https://docs.pydantic.dev/latest/concepts/validators/#model-validators) for more details.\u001b[39m\u001b[33m'\u001b[39m,\n\u001b[32m    259\u001b[39m         stacklevel=\u001b[32m2\u001b[39m,\n\u001b[32m    260\u001b[39m     )\n",
      "\u001b[31mValidationError\u001b[39m: 1 validation error for Patient\n  Value error, Age is getter then 50 so need a emergency contact [type=value_error, input_value={'name': 'Md Al Amin', 'a...': {'phone': '017xxxx'}}, input_type=dict]\n    For further information visit https://errors.pydantic.dev/2.11/v/value_error"
     ]
    }
   ],
   "source": [
    "profile = {\n",
    "    \"name\": \"Md Al Amin\",\n",
    "    \"age\": '65',\n",
    "    \"weight\": 67,\n",
    "    \"married\": False,\n",
    "    \"email\": \"hello@nsu.edu\",\n",
    "    \"linkedin_url\": \"https://hello.com\",\n",
    "    \"allergies\": [\"item1\", \"item2\"],\n",
    "    \"contact_details\": {\n",
    "        \"phone\": \"017xxxx\",\n",
    "        # there is no emergency contact so its give error\n",
    "    },\n",
    "}\n",
    "\n",
    "p001 = Patient(**profile)\n",
    "insert_patient_data(p001)"
   ]
  },
  {
   "cell_type": "code",
   "execution_count": 6,
   "id": "840e2a1a",
   "metadata": {},
   "outputs": [
    {
     "name": "stdout",
     "output_type": "stream",
     "text": [
      "Md Al Amin\n",
      "['item1', 'item2']\n",
      "False\n",
      "{'phone': '017xxxx', 'emergency_contact': '019xxxx'}\n",
      "====data inserted====\n"
     ]
    }
   ],
   "source": [
    "profile = {\n",
    "    \"name\": \"Md Al Amin\",\n",
    "    \"age\": '65',\n",
    "    \"weight\": 67,\n",
    "    \"married\": False,\n",
    "    \"email\": \"hello@nsu.edu\",\n",
    "    \"linkedin_url\": \"https://hello.com\",\n",
    "    \"allergies\": [\"item1\", \"item2\"],\n",
    "    \"contact_details\": {\n",
    "        \"phone\": \"017xxxx\",\n",
    "        \"emergency_contact\": \"019xxxx\"\n",
    "    },\n",
    "}\n",
    "\n",
    "p001 = Patient(**profile)\n",
    "insert_patient_data(p001)"
   ]
  },
  {
   "cell_type": "code",
   "execution_count": null,
   "id": "26290faa",
   "metadata": {},
   "outputs": [],
   "source": []
  }
 ],
 "metadata": {
  "kernelspec": {
   "display_name": "Python 3",
   "language": "python",
   "name": "python3"
  },
  "language_info": {
   "codemirror_mode": {
    "name": "ipython",
    "version": 3
   },
   "file_extension": ".py",
   "mimetype": "text/x-python",
   "name": "python",
   "nbconvert_exporter": "python",
   "pygments_lexer": "ipython3",
   "version": "3.12.0"
  }
 },
 "nbformat": 4,
 "nbformat_minor": 5
}

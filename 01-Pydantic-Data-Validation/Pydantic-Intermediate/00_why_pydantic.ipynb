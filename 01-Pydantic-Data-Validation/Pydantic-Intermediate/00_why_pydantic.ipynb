{
 "cells": [
  {
   "cell_type": "markdown",
   "id": "f824b336",
   "metadata": {},
   "source": [
    "### The problem of Pydantic"
   ]
  },
  {
   "cell_type": "code",
   "execution_count": 2,
   "id": "233d628f",
   "metadata": {},
   "outputs": [],
   "source": [
    "def insert_patient_data(name, age):\n",
    "    print(name)\n",
    "    print(age)\n",
    "    print(\"Data insert successfully\")"
   ]
  },
  {
   "cell_type": "code",
   "execution_count": 3,
   "id": "5fb63c6f",
   "metadata": {},
   "outputs": [
    {
     "name": "stdout",
     "output_type": "stream",
     "text": [
      "name\n",
      "thirty\n",
      "Data insert successfully\n"
     ]
    }
   ],
   "source": [
    "insert_patient_data(\"name\", \"thirty\")"
   ]
  },
  {
   "cell_type": "markdown",
   "id": "c060bf90",
   "metadata": {},
   "source": [
    "## Problem\n",
    "- function expect is age will be the int data but user can pass any type of data\n",
    "- python is dynamic typing"
   ]
  },
  {
   "cell_type": "code",
   "execution_count": 4,
   "id": "5596738e",
   "metadata": {},
   "outputs": [
    {
     "name": "stdout",
     "output_type": "stream",
     "text": [
      "Al amin\n",
      "12\n",
      "Data insert successfully\n"
     ]
    }
   ],
   "source": [
    "def insert_patient_data(name, age:int):\n",
    "    print(name)\n",
    "    print(age)\n",
    "    print(\"Data insert successfully\")\n",
    "    \n",
    "insert_patient_data(\"Al amin\", '12')"
   ]
  },
  {
   "cell_type": "markdown",
   "id": "c4641b3e",
   "metadata": {},
   "source": [
    "### This option is correct but inefficient"
   ]
  },
  {
   "cell_type": "code",
   "execution_count": 5,
   "id": "e74ab6ff",
   "metadata": {},
   "outputs": [
    {
     "name": "stdout",
     "output_type": "stream",
     "text": [
      "Data insert successfully\n"
     ]
    }
   ],
   "source": [
    "def insert_patient_data(name, age):\n",
    "    if name == str:\n",
    "        print(name)\n",
    "    if age == int:\n",
    "        print(age)\n",
    "    print(\"Data insert successfully\")\n",
    "    \n",
    "insert_patient_data(\"md Al Amin\", '4')"
   ]
  },
  {
   "cell_type": "markdown",
   "id": "e800d95b",
   "metadata": {},
   "source": [
    "#### if i need data validation then its complicate to validation of data\n",
    "- email validation\n",
    "- age can not be negative\n",
    "- have to write lots of code\n",
    "\n",
    "### How its work"
   ]
  },
  {
   "cell_type": "markdown",
   "id": "5116f448",
   "metadata": {},
   "source": [
    "1. Define a pydantic model that represents the ideal schema of the data.\n",
    "2. instantiate the model with rew input data\n",
    "3. pass the validated model object ot functions or use it throughout the codebase"
   ]
  },
  {
   "cell_type": "code",
   "execution_count": 6,
   "id": "70d28e95",
   "metadata": {},
   "outputs": [],
   "source": [
    "from pydantic import BaseModel, Field\n",
    "from typing import Literal, List, Dict, Optional"
   ]
  },
  {
   "cell_type": "code",
   "execution_count": 9,
   "id": "cef4144f",
   "metadata": {},
   "outputs": [
    {
     "name": "stdout",
     "output_type": "stream",
     "text": [
      "name='md Al amin' age=23\n"
     ]
    }
   ],
   "source": [
    "class Patient(BaseModel):\n",
    "    \"\"\"This is the patient data insertion function.\"\"\"\n",
    "    \n",
    "    name: str\n",
    "    age: int\n",
    "    \n",
    "    \n",
    "\n",
    "person = {\"name\": \"md Al amin\", \"age\": 23}\n",
    "\n",
    "per = Patient(**person)\n",
    "\n",
    "print(per)"
   ]
  },
  {
   "cell_type": "code",
   "execution_count": 10,
   "id": "f60d88b4",
   "metadata": {},
   "outputs": [
    {
     "name": "stdout",
     "output_type": "stream",
     "text": [
      "md Al amin\n",
      "23\n",
      "Data insert successfully\n"
     ]
    }
   ],
   "source": [
    "def insert_patient_data(patient: Patient):\n",
    "    print(patient.name)\n",
    "    print(patient.age)\n",
    "    print(\"Data insert successfully\")\n",
    "    \n",
    "insert_patient_data(per)"
   ]
  },
  {
   "cell_type": "code",
   "execution_count": 11,
   "id": "0994e648",
   "metadata": {},
   "outputs": [
    {
     "name": "stdout",
     "output_type": "stream",
     "text": [
      "md Al amin\n",
      "23\n",
      "Data insert successfully\n"
     ]
    }
   ],
   "source": [
    "def update_patient_data(patient: Patient):\n",
    "    print(patient.name)\n",
    "    print(patient.age)\n",
    "    print(\"Data insert successfully\")\n",
    "    \n",
    "update_patient_data(per)"
   ]
  },
  {
   "cell_type": "markdown",
   "id": "b67f5219",
   "metadata": {},
   "source": [
    "# ***Now Build The actual Pydantic Model***"
   ]
  },
  {
   "cell_type": "code",
   "execution_count": 21,
   "id": "acab542c",
   "metadata": {},
   "outputs": [
    {
     "name": "stdout",
     "output_type": "stream",
     "text": [
      "Md Al Amin\n",
      "['item1', 'item2']\n",
      "{'phone': '017xxxx', 'emergency_contact': '019xxxx'}\n",
      "019xxxx\n",
      "====data inserted====\n"
     ]
    }
   ],
   "source": [
    "class Patient(BaseModel):\n",
    "    name: str\n",
    "    age: int\n",
    "    weight: float\n",
    "    married: bool\n",
    "    allergies: List[str]  # use List instead of use list because we want to validate 2 label validation like Must be list and in the list data will be str\n",
    "    contact_details: Dict[str, str]\n",
    "    \n",
    "def insert_patient_data(patient: Patient):\n",
    "    print(patient.name)\n",
    "    print(patient.allergies)\n",
    "    print(patient.contact_details)\n",
    "    print(patient.contact_details['emergency_contact'])\n",
    "    \n",
    "    print(\"====data inserted====\")\n",
    "    \n",
    "    \n",
    "profile = {\n",
    "    \"name\": \"Md Al Amin\",\n",
    "    \"age\": 25,\n",
    "    \"weight\": 67.0,\n",
    "    \"married\": False,\n",
    "    \"allergies\": [\"item1\", \"item2\"],\n",
    "    \"contact_details\": {\n",
    "        \"phone\": \"017xxxx\",\n",
    "        \"emergency_contact\": \"019xxxx\"\n",
    "    },\n",
    "}\n",
    "\n",
    "p001 = Patient(**profile)\n",
    "insert_patient_data(p001)"
   ]
  },
  {
   "cell_type": "markdown",
   "id": "9bd79ae6",
   "metadata": {},
   "source": [
    "### Option field\n",
    "- by default pydantic all data is required if we want we can set optional field\n",
    "- have to puss default value"
   ]
  },
  {
   "cell_type": "code",
   "execution_count": 23,
   "id": "375ab68d",
   "metadata": {},
   "outputs": [
    {
     "name": "stdout",
     "output_type": "stream",
     "text": [
      "Md Al Amin\n",
      "['item1', 'item2']\n",
      "False\n",
      "{'phone': '017xxxx', 'emergency_contact': '019xxxx'}\n",
      "019xxxx\n",
      "====data inserted====\n"
     ]
    }
   ],
   "source": [
    "class Patient(BaseModel):\n",
    "    name: str\n",
    "    age: int\n",
    "    weight: float\n",
    "    married: Optional[bool] = False\n",
    "    allergies: List[str]  # use List instead of use list because we want to validate 2 label validation like Must be list and in the list data will be str\n",
    "    contact_details: Dict[str, str]\n",
    "    \n",
    "def insert_patient_data(patient: Patient):\n",
    "    print(patient.name)\n",
    "    print(patient.allergies)\n",
    "    print(patient.married)\n",
    "    print(patient.contact_details)\n",
    "    print(patient.contact_details['emergency_contact'])\n",
    "    \n",
    "    print(\"====data inserted====\")\n",
    "    \n",
    "    \n",
    "profile = {\n",
    "    \"name\": \"Md Al Amin\",\n",
    "    \"age\": 25,\n",
    "    \"weight\": 67.0,\n",
    "    \n",
    "    \"allergies\": [\"item1\", \"item2\"],\n",
    "    \"contact_details\": {\n",
    "        \"phone\": \"017xxxx\",\n",
    "        \"emergency_contact\": \"019xxxx\"\n",
    "    },\n",
    "}\n",
    "\n",
    "p001 = Patient(**profile)\n",
    "insert_patient_data(p001)"
   ]
  },
  {
   "cell_type": "markdown",
   "id": "b655e45a",
   "metadata": {},
   "source": [
    "# ***Pydantic build-in data Validation-Common Case***"
   ]
  },
  {
   "cell_type": "code",
   "execution_count": 27,
   "id": "6a1346cc",
   "metadata": {},
   "outputs": [
    {
     "name": "stdout",
     "output_type": "stream",
     "text": [
      "Md Al Amin\n",
      "['item1', 'item2']\n",
      "False\n",
      "{'phone': '017xxxx', 'emergency_contact': '019xxxx'}\n",
      "019xxxx\n",
      "hello@nsu.com   https://hello.com/\n",
      "====data inserted====\n"
     ]
    }
   ],
   "source": [
    "from pydantic import EmailStr, AnyUrl\n",
    "\n",
    "class Patient(BaseModel):\n",
    "    name: str\n",
    "    age: int\n",
    "    email: EmailStr\n",
    "    linkedin_url: AnyUrl\n",
    "    weight: float\n",
    "    married: Optional[bool] = False\n",
    "    allergies: List[str]  # use List instead of use list because we want to validate 2 label validation like Must be list and in the list data will be str\n",
    "    contact_details: Dict[str, str]\n",
    "    \n",
    "def insert_patient_data(patient: Patient):\n",
    "    print(patient.name)\n",
    "    print(patient.allergies)\n",
    "    print(patient.married)\n",
    "    print(patient.contact_details)\n",
    "    print(patient.contact_details['emergency_contact'])\n",
    "    print(patient.email, \" \", patient.linkedin_url)\n",
    "    \n",
    "    print(\"====data inserted====\")\n",
    "    \n",
    "    \n",
    "profile = {\n",
    "    \"name\": \"Md Al Amin\",\n",
    "    \"age\": 25,\n",
    "    \"weight\": 67.0,\n",
    "    \"email\": \"hello@nsu.com\",\n",
    "    \"linkedin_url\": \"https://hello.com\",\n",
    "    \"allergies\": [\"item1\", \"item2\"],\n",
    "    \"contact_details\": {\n",
    "        \"phone\": \"017xxxx\",\n",
    "        \"emergency_contact\": \"019xxxx\"\n",
    "    },\n",
    "}\n",
    "\n",
    "p001 = Patient(**profile)\n",
    "insert_patient_data(p001)"
   ]
  },
  {
   "cell_type": "markdown",
   "id": "34d99f54",
   "metadata": {},
   "source": [
    "## Use Field Function for data validation.\n",
    "- add custom description or metadata.\n",
    "- set range on the data e.g. gt and le"
   ]
  },
  {
   "cell_type": "code",
   "execution_count": 35,
   "id": "e367b004",
   "metadata": {},
   "outputs": [
    {
     "name": "stdout",
     "output_type": "stream",
     "text": [
      "Md Al Amin\n",
      "['item1', 'item2']\n",
      "False\n",
      "{'phone': '017xxxx', 'emergency_contact': '019xxxx'}\n",
      "019xxxx\n",
      "hello@nsu.com   https://hello.com/\n",
      "====data inserted====\n"
     ]
    }
   ],
   "source": [
    "from pydantic import EmailStr, AnyUrl\n",
    "from typing import Annotated\n",
    "\n",
    "class Patient(BaseModel):\n",
    "    name: str = Field(description=\"This is user name\", max_length=10, examples=\"Md Al amin\", title=\"Name of the patient.\")\n",
    "    age: int = Field(gt=20, le=40, default=33)\n",
    "    email: EmailStr\n",
    "    linkedin_url: AnyUrl\n",
    "    weight: Annotated[float, Field(strict=True)]\n",
    "    married: Annotated[Optional[bool], Field(default=False, description=\"Patient married status.\")]\n",
    "    allergies: List[str]  # use List instead of use list because we want to validate 2 label validation like Must be list and in the list data will be str\n",
    "    contact_details: Dict[str, str]\n",
    "    \n",
    "def insert_patient_data(patient: Patient):\n",
    "    print(patient.name)\n",
    "    print(patient.allergies)\n",
    "    print(patient.married)\n",
    "    print(patient.contact_details)\n",
    "    print(patient.contact_details['emergency_contact'])\n",
    "    print(patient.email, \" \", patient.linkedin_url)\n",
    "    \n",
    "    print(\"====data inserted====\")\n",
    "    \n",
    "    \n",
    "profile = {\n",
    "    \"name\": \"Md Al Amin\",\n",
    "    \"age\": 25,\n",
    "    \"weight\": 67,\n",
    "    \"email\": \"hello@nsu.com\",\n",
    "    \"linkedin_url\": \"https://hello.com\",\n",
    "    \"allergies\": [\"item1\", \"item2\"],\n",
    "    \"contact_details\": {\n",
    "        \"phone\": \"017xxxx\",\n",
    "        \"emergency_contact\": \"019xxxx\"\n",
    "    },\n",
    "}\n",
    "\n",
    "p001 = Patient(**profile)\n",
    "insert_patient_data(p001)"
   ]
  },
  {
   "cell_type": "code",
   "execution_count": null,
   "id": "f4004934",
   "metadata": {},
   "outputs": [],
   "source": []
  }
 ],
 "metadata": {
  "kernelspec": {
   "display_name": "Python 3",
   "language": "python",
   "name": "python3"
  },
  "language_info": {
   "codemirror_mode": {
    "name": "ipython",
    "version": 3
   },
   "file_extension": ".py",
   "mimetype": "text/x-python",
   "name": "python",
   "nbconvert_exporter": "python",
   "pygments_lexer": "ipython3",
   "version": "3.12.0"
  }
 },
 "nbformat": 4,
 "nbformat_minor": 5
}

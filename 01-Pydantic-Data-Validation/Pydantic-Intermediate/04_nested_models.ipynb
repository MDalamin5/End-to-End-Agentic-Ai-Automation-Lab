{
 "cells": [
  {
   "cell_type": "code",
   "execution_count": 4,
   "id": "6c994406",
   "metadata": {},
   "outputs": [
    {
     "name": "stdout",
     "output_type": "stream",
     "text": [
      "{'name': 'Md Al Amin', 'age': 25.0, 'gander': 'male', 'address': {'house_no': 'aa', 'road_no': 'r4', 'city': 'Dhk', 'zip_code': 'mnnm'}}\n"
     ]
    }
   ],
   "source": [
    "from pydantic import BaseModel, Field\n",
    "from typing import Literal, Annotated\n",
    "\n",
    "class Address(BaseModel):\n",
    "    house_no: str\n",
    "    road_no: str\n",
    "    city: str\n",
    "    zip_code: str\n",
    "\n",
    "class Patient(BaseModel):\n",
    "    name: str\n",
    "    age: float\n",
    "    gander: Annotated[Literal['male', 'female'], Field(default='male')]\n",
    "    address: Address\n",
    "    \n",
    "    \n",
    "person = {\n",
    "    \"name\": \"Md Al Amin\",\n",
    "    \"age\": 25,\n",
    "    'address': {\n",
    "        'house_no': 'aa',\n",
    "        'road_no': 'r4',\n",
    "        'city': 'Dhk',\n",
    "        'zip_code': \"mnnm\"\n",
    "    }\n",
    "}\n",
    "\n",
    "p001 = Patient(**person).model_dump()\n",
    "print(p001)"
   ]
  },
  {
   "cell_type": "code",
   "execution_count": 6,
   "id": "5e9f59df",
   "metadata": {},
   "outputs": [
    {
     "data": {
      "text/plain": [
       "'r4'"
      ]
     },
     "execution_count": 6,
     "metadata": {},
     "output_type": "execute_result"
    }
   ],
   "source": [
    "p001['address']['road_no']"
   ]
  },
  {
   "cell_type": "markdown",
   "id": "6ebbc095",
   "metadata": {},
   "source": [
    "## We can extract any kind of data like `Object extraction` in `dict` of `json` format"
   ]
  },
  {
   "cell_type": "code",
   "execution_count": 7,
   "id": "2e153bb0",
   "metadata": {},
   "outputs": [
    {
     "data": {
      "text/plain": [
       "{'name': 'Md Al Amin', 'age': 25.0, 'gander': 'male'}"
      ]
     },
     "execution_count": 7,
     "metadata": {},
     "output_type": "execute_result"
    }
   ],
   "source": [
    "p002 = Patient(**person).model_dump(exclude='address')\n",
    "p002"
   ]
  },
  {
   "cell_type": "code",
   "execution_count": 8,
   "id": "d862eec0",
   "metadata": {},
   "outputs": [
    {
     "data": {
      "text/plain": [
       "dict"
      ]
     },
     "execution_count": 8,
     "metadata": {},
     "output_type": "execute_result"
    }
   ],
   "source": [
    "type(p002)"
   ]
  },
  {
   "cell_type": "code",
   "execution_count": 9,
   "id": "d46b80ae",
   "metadata": {},
   "outputs": [
    {
     "data": {
      "text/plain": [
       "{'address': {'house_no': 'aa',\n",
       "  'road_no': 'r4',\n",
       "  'city': 'Dhk',\n",
       "  'zip_code': 'mnnm'}}"
      ]
     },
     "execution_count": 9,
     "metadata": {},
     "output_type": "execute_result"
    }
   ],
   "source": [
    "p002 = Patient(**person).model_dump(include='address')\n",
    "p002"
   ]
  },
  {
   "cell_type": "code",
   "execution_count": 10,
   "id": "cb1a853c",
   "metadata": {},
   "outputs": [
    {
     "data": {
      "text/plain": [
       "{'name': 'Md Al Amin',\n",
       " 'address': {'house_no': 'aa',\n",
       "  'road_no': 'r4',\n",
       "  'city': 'Dhk',\n",
       "  'zip_code': 'mnnm'}}"
      ]
     },
     "execution_count": 10,
     "metadata": {},
     "output_type": "execute_result"
    }
   ],
   "source": [
    "p002 = Patient(**person).model_dump(include=['name', 'address'])\n",
    "p002"
   ]
  },
  {
   "cell_type": "code",
   "execution_count": 11,
   "id": "472235ce",
   "metadata": {},
   "outputs": [
    {
     "data": {
      "text/plain": [
       "{'name': 'Md Al Amin',\n",
       " 'age': 25.0,\n",
       " 'gander': 'male',\n",
       " 'address': {'house_no': 'aa', 'road_no': 'r4', 'city': 'Dhk'}}"
      ]
     },
     "execution_count": 11,
     "metadata": {},
     "output_type": "execute_result"
    }
   ],
   "source": [
    "p002 = Patient(**person).model_dump(exclude={'address':['zip_code']})\n",
    "p002"
   ]
  },
  {
   "cell_type": "code",
   "execution_count": 13,
   "id": "f9e4c363",
   "metadata": {},
   "outputs": [
    {
     "data": {
      "text/plain": [
       "{'name': 'Md Al Amin',\n",
       " 'age': 25.0,\n",
       " 'address': {'house_no': 'aa', 'road_no': 'r4', 'city': 'Dhk'}}"
      ]
     },
     "execution_count": 13,
     "metadata": {},
     "output_type": "execute_result"
    }
   ],
   "source": [
    "## We want only user provide value\n",
    "# so gender will be not coaming\n",
    "\n",
    "p002 = Patient(**person).model_dump(exclude_unset=True,exclude={'address':['zip_code']})\n",
    "p002"
   ]
  },
  {
   "cell_type": "code",
   "execution_count": null,
   "id": "04f460dd",
   "metadata": {},
   "outputs": [],
   "source": []
  }
 ],
 "metadata": {
  "kernelspec": {
   "display_name": "Python 3",
   "language": "python",
   "name": "python3"
  },
  "language_info": {
   "codemirror_mode": {
    "name": "ipython",
    "version": 3
   },
   "file_extension": ".py",
   "mimetype": "text/x-python",
   "name": "python",
   "nbconvert_exporter": "python",
   "pygments_lexer": "ipython3",
   "version": "3.12.0"
  }
 },
 "nbformat": 4,
 "nbformat_minor": 5
}

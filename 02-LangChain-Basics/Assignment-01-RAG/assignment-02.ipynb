{
 "cells": [
  {
   "cell_type": "markdown",
   "id": "70ffd336",
   "metadata": {},
   "source": [
    "## ***Load the Document***"
   ]
  },
  {
   "cell_type": "code",
   "execution_count": 1,
   "id": "de3b7cda",
   "metadata": {},
   "outputs": [],
   "source": [
    "from langchain_community.document_loaders import PyPDFLoader\n",
    "file_path = \"./deepLearning-book/d2l-en.pdf\"\n",
    "loader = PyPDFLoader(file_path=file_path)"
   ]
  },
  {
   "cell_type": "code",
   "execution_count": 2,
   "id": "faf26446",
   "metadata": {},
   "outputs": [
    {
     "data": {
      "text/plain": [
       "1151"
      ]
     },
     "execution_count": 2,
     "metadata": {},
     "output_type": "execute_result"
    }
   ],
   "source": [
    "docs = loader.load()\n",
    "len(docs)"
   ]
  },
  {
   "cell_type": "code",
   "execution_count": 8,
   "id": "e1921f0f",
   "metadata": {},
   "outputs": [
    {
     "name": "stdout",
     "output_type": "stream",
     "text": [
      "161 Environment and Distribution Shift\n",
      "parametrized function), it follows that\n",
      "𝛽𝑖 = 1¹1 ¸exp¹\u0000ℎ¹x𝑖ººº\n",
      "exp¹\u0000ℎ¹x𝑖ºº¹1 ¸exp¹\u0000ℎ¹x𝑖ººº = exp¹ℎ¹x𝑖ºº. (4.7.7)\n",
      "As a result, we need to solve two problems: the first, to distinguish between data drawn\n",
      "frombothdistributions,andthenaweightedempiricalriskminimizationproblemin (4.7.5)\n",
      "where we weigh terms by𝛽𝑖.\n",
      "Now we are ready to describe a correction algorithm. Suppose that we have a training set\n",
      "f¹x1,𝑦1º,..., ¹x𝑛,𝑦𝑛ºgand an unlabeled test setfu1,..., u𝑚g. For covariate shift, we\n",
      "assume thatx𝑖 for all1 \u0014𝑖 \u0014𝑛are drawn from some source distribution andu𝑖 for all\n",
      "1 \u0014𝑖 \u0014𝑚 are drawn from the target distribution. Here is a prototypical algorithm for\n",
      "correcting covariate shift:\n",
      "1. Createabinary-classificationtrainingset: f¹x1,\u00001º,..., ¹x𝑛,\u00001º,¹u1,1º,..., ¹u𝑚,1ºg.\n",
      "2. Train a binary classifier using logistic regression to get the functionℎ.\n",
      "3. Weigh training data using𝛽𝑖 = exp¹ℎ¹x𝑖ººor better𝛽𝑖 = min¹exp¹ℎ¹x𝑖ºº,𝑐ºfor some\n",
      "constant 𝑐.\n",
      "4. Use weights𝛽𝑖 for training onf¹x1,𝑦1º,..., ¹x𝑛,𝑦𝑛ºgin (4.7.5).\n",
      "Note that the above algorithm relies on a crucial assumption. For this scheme to work, we\n",
      "need that each data example in the target (e.g., test time) distribution had nonzero proba-\n",
      "bility of occurring at training time. If we find a point where𝑝¹xº> 0 but 𝑞¹xº= 0, then\n",
      "the corresponding importance weight should be infinity.\n",
      "Label Shift Correction\n",
      "Assume that we are dealing with a classification task with𝑘 categories. Using the same\n",
      "notation inSection 4.7.3, 𝑞and 𝑝are the source distribution (e.g., training time) and target\n",
      "distribution (e.g., test time), respectively. Assume that the distribution of labels shifts over\n",
      "time: 𝑞¹𝑦º≠ 𝑝¹𝑦º, but the class-conditional distribution stays the same:𝑞¹x j𝑦º= 𝑝¹x j\n",
      "𝑦º. If the source distribution 𝑞¹𝑦ºis “wrong”, we can correct for that according to the\n",
      "following identity in the risk as defined in(4.7.2):\n",
      "¹ ¹\n",
      "𝑙¹𝑓¹xº,𝑦º𝑝¹x j𝑦º𝑝¹𝑦º𝑑x𝑑𝑦 =\n",
      "¹ ¹\n",
      "𝑙¹𝑓¹xº,𝑦º𝑞¹x j𝑦º𝑞¹𝑦º𝑝¹𝑦º\n",
      "𝑞¹𝑦º𝑑x𝑑𝑦.\n",
      "(4.7.8)\n",
      "Here, our importance weights will correspond to the label likelihood ratios:\n",
      "𝛽𝑖\n",
      "def\n",
      "= 𝑝¹𝑦𝑖º\n",
      "𝑞¹𝑦𝑖º. (4.7.9)\n",
      "One nice thing about label shift is that if we have a reasonably good model on the source\n",
      "distribution, then we can get consistent estimates of these weights without ever having to\n",
      "deal with the ambient dimension. In deep learning, the inputs tend to be high-dimensional\n",
      "objects like images, while the labels are often simpler objects like categories.\n",
      "To estimate the target label distribution, we first take our reasonably good off-the-shelf\n"
     ]
    }
   ],
   "source": [
    "print(docs[200].page_content)"
   ]
  },
  {
   "cell_type": "markdown",
   "id": "b4831fd5",
   "metadata": {},
   "source": [
    "## **Semantic Chunking**"
   ]
  },
  {
   "cell_type": "code",
   "execution_count": null,
   "id": "b2cd7aa9",
   "metadata": {},
   "outputs": [],
   "source": []
  }
 ],
 "metadata": {
  "kernelspec": {
   "display_name": "ailb",
   "language": "python",
   "name": "python3"
  },
  "language_info": {
   "codemirror_mode": {
    "name": "ipython",
    "version": 3
   },
   "file_extension": ".py",
   "mimetype": "text/x-python",
   "name": "python",
   "nbconvert_exporter": "python",
   "pygments_lexer": "ipython3",
   "version": "3.10.16"
  }
 },
 "nbformat": 4,
 "nbformat_minor": 5
}

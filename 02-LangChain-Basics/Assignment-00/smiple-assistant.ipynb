{
 "cells": [
  {
   "cell_type": "markdown",
   "id": "6b78fa87",
   "metadata": {},
   "source": [
    "# ***Project***\n",
    "\n",
    "---\n",
    "Create a simple assistant that uses any LLM and should be pydantic, when we ask about any product it should give you two information product Name, product details tentative price in USD(integer). Use chat prompt template and chain system.\n",
    "\n",
    "---"
   ]
  },
  {
   "cell_type": "code",
   "execution_count": 20,
   "id": "d90e1c69",
   "metadata": {},
   "outputs": [
    {
     "data": {
      "text/plain": [
       "True"
      ]
     },
     "execution_count": 20,
     "metadata": {},
     "output_type": "execute_result"
    }
   ],
   "source": [
    "from langchain_core.prompts import ChatPromptTemplate\n",
    "from langchain_core.output_parsers import PydanticOutputParser\n",
    "import os\n",
    "from dotenv import load_dotenv\n",
    "from langchain_groq import ChatGroq\n",
    "from typing import Annotated, List\n",
    "from pydantic import BaseModel, Field\n",
    "load_dotenv()"
   ]
  },
  {
   "cell_type": "code",
   "execution_count": 21,
   "id": "739bd596",
   "metadata": {},
   "outputs": [],
   "source": [
    "groq_api_key  = os.getenv(\"GROQ_API_KEY\")\n",
    "os.environ[\"LANGCHAIN_API_KEY\"]=os.getenv(\"LANGCHAIN_API_KEY\")\n",
    "os.environ[\"LANGCHAIN_PROJECT\"]=\"Simple Chatbot\"\n",
    "os.environ[\"LANGCHAIN_TRACING_V2\"] = \"true\"\n",
    "\n",
    "model = ChatGroq(model_name=\"meta-llama/llama-4-scout-17b-16e-instruct\", groq_api_key=groq_api_key)"
   ]
  },
  {
   "cell_type": "markdown",
   "id": "b5a08267",
   "metadata": {},
   "source": [
    "## Product output schema"
   ]
  },
  {
   "cell_type": "code",
   "execution_count": 22,
   "id": "ad09b8df",
   "metadata": {},
   "outputs": [],
   "source": [
    "class ProductDetails(BaseModel):\n",
    "    \"\"\"This is product info Schema.\"\"\"\n",
    "    \n",
    "    product_name: Annotated[str, Field(description=\"This is product name.\")]\n",
    "    product_details: Annotated[List[str], Field(description=\"List of product details like Ram, Rom, processor, Camera, battery, Screen size.\")]\n",
    "    product_price: Annotated[int, Field(description=\"Product prince in USD(integer format price).\")]\n",
    "    \n",
    "parser = PydanticOutputParser(pydantic_object=ProductDetails)"
   ]
  },
  {
   "cell_type": "markdown",
   "id": "08baadd7",
   "metadata": {},
   "source": [
    "## System messages and ChatPromptTemplate"
   ]
  },
  {
   "cell_type": "code",
   "execution_count": 23,
   "id": "b2c2d0e3",
   "metadata": {},
   "outputs": [],
   "source": [
    "system_messages = \"\"\"\n",
    "    Think you are a tech expert. Your task is user will give a phone name and you will be provide a Structured output based on the {format_instruction} schema.\n",
    "    1. product name which user will be give you.\n",
    "    2. product details like Ram, Rom, processor, Camera, battery, Screen size and other which is necessary.\n",
    "    3. product tentative price in USD format. must in USD integer format.\n",
    "\"\"\""
   ]
  },
  {
   "cell_type": "code",
   "execution_count": 24,
   "id": "5d783b00",
   "metadata": {},
   "outputs": [],
   "source": [
    "chat_prompt = ChatPromptTemplate.from_messages(\n",
    "    [\n",
    "        (\"system\", system_messages),\n",
    "        (\"human\", \"{input}\")\n",
    "    ]\n",
    ").partial(format_instruction=parser.get_format_instructions())"
   ]
  },
  {
   "cell_type": "code",
   "execution_count": 25,
   "id": "61c08808",
   "metadata": {},
   "outputs": [],
   "source": [
    "chain = chat_prompt | model | parser"
   ]
  },
  {
   "cell_type": "code",
   "execution_count": 33,
   "id": "f09ffa81",
   "metadata": {},
   "outputs": [
    {
     "name": "stdout",
     "output_type": "stream",
     "text": [
      "    +-------------+      \n",
      "    | PromptInput |      \n",
      "    +-------------+      \n",
      "            *            \n",
      "            *            \n",
      "            *            \n",
      " +--------------------+  \n",
      " | ChatPromptTemplate |  \n",
      " +--------------------+  \n",
      "            *            \n",
      "            *            \n",
      "            *            \n",
      "      +----------+       \n",
      "      | ChatGroq |       \n",
      "      +----------+       \n",
      "            *            \n",
      "            *            \n",
      "            *            \n",
      "+----------------------+ \n",
      "| PydanticOutputParser | \n",
      "+----------------------+ \n",
      "            *            \n",
      "            *            \n",
      "            *            \n",
      "   +----------------+    \n",
      "   | ProductDetails |    \n",
      "   +----------------+    \n"
     ]
    }
   ],
   "source": [
    "chain.get_graph().print_ascii()"
   ]
  },
  {
   "cell_type": "code",
   "execution_count": 27,
   "id": "d9a85f99",
   "metadata": {},
   "outputs": [
    {
     "data": {
      "text/plain": [
       "ProductDetails(product_name='Samsung S24 Ultra', product_details=['12GB/16GB RAM', '128GB/256GB/512GB/1TB ROM', 'Qualcomm Snapdragon 8 Gen 3', '50MP Front Camera, 200MP Rear Camera', '5000mAh battery', '6.8 inches Dynamic AMOLED 2X Screen', '120Hz Refresh Rate', 'IP67 Water and Dust Resistance', 'Ultrasonic Fingerprint Sensor', 'S-Pen Stylus Support'], product_price=1199)"
      ]
     },
     "execution_count": 27,
     "metadata": {},
     "output_type": "execute_result"
    }
   ],
   "source": [
    "response = chain.invoke(\n",
    "    {\n",
    "        \"input\": \"Sumsang s24 ultra\"\n",
    "    }\n",
    ")\n",
    "response"
   ]
  },
  {
   "cell_type": "code",
   "execution_count": 28,
   "id": "3716ca97",
   "metadata": {},
   "outputs": [
    {
     "data": {
      "text/plain": [
       "{'product_name': 'Samsung S24 Ultra',\n",
       " 'product_details': ['12GB/16GB RAM',\n",
       "  '128GB/256GB/512GB/1TB ROM',\n",
       "  'Qualcomm Snapdragon 8 Gen 3',\n",
       "  '50MP Front Camera, 200MP Rear Camera',\n",
       "  '5000mAh battery',\n",
       "  '6.8 inches Dynamic AMOLED 2X Screen',\n",
       "  '120Hz Refresh Rate',\n",
       "  'IP67 Water and Dust Resistance',\n",
       "  'Ultrasonic Fingerprint Sensor',\n",
       "  'S-Pen Stylus Support'],\n",
       " 'product_price': 1199}"
      ]
     },
     "execution_count": 28,
     "metadata": {},
     "output_type": "execute_result"
    }
   ],
   "source": [
    "response.model_dump()"
   ]
  },
  {
   "cell_type": "code",
   "execution_count": 29,
   "id": "8f053f3c",
   "metadata": {},
   "outputs": [
    {
     "data": {
      "text/plain": [
       "['12GB/16GB RAM',\n",
       " '128GB/256GB/512GB/1TB ROM',\n",
       " 'Qualcomm Snapdragon 8 Gen 3',\n",
       " '50MP Front Camera, 200MP Rear Camera',\n",
       " '5000mAh battery',\n",
       " '6.8 inches Dynamic AMOLED 2X Screen',\n",
       " '120Hz Refresh Rate',\n",
       " 'IP67 Water and Dust Resistance',\n",
       " 'Ultrasonic Fingerprint Sensor',\n",
       " 'S-Pen Stylus Support']"
      ]
     },
     "execution_count": 29,
     "metadata": {},
     "output_type": "execute_result"
    }
   ],
   "source": [
    "response.product_details"
   ]
  },
  {
   "cell_type": "code",
   "execution_count": 30,
   "id": "471a9877",
   "metadata": {},
   "outputs": [
    {
     "data": {
      "text/plain": [
       "1199"
      ]
     },
     "execution_count": 30,
     "metadata": {},
     "output_type": "execute_result"
    }
   ],
   "source": [
    "response.product_price"
   ]
  },
  {
   "cell_type": "code",
   "execution_count": null,
   "id": "cd7531f8",
   "metadata": {},
   "outputs": [],
   "source": []
  }
 ],
 "metadata": {
  "kernelspec": {
   "display_name": "Python 3",
   "language": "python",
   "name": "python3"
  },
  "language_info": {
   "codemirror_mode": {
    "name": "ipython",
    "version": 3
   },
   "file_extension": ".py",
   "mimetype": "text/x-python",
   "name": "python",
   "nbconvert_exporter": "python",
   "pygments_lexer": "ipython3",
   "version": "3.12.0"
  }
 },
 "nbformat": 4,
 "nbformat_minor": 5
}

{
 "cells": [
  {
   "cell_type": "code",
   "execution_count": 1,
   "id": "62b93407",
   "metadata": {},
   "outputs": [
    {
     "name": "stderr",
     "output_type": "stream",
     "text": [
      "C:\\Users\\Lenovo\\AppData\\Roaming\\Python\\Python312\\site-packages\\tqdm\\auto.py:21: TqdmWarning: IProgress not found. Please update jupyter and ipywidgets. See https://ipywidgets.readthedocs.io/en/stable/user_install.html\n",
      "  from .autonotebook import tqdm as notebook_tqdm\n"
     ]
    }
   ],
   "source": [
    "from dotenv import load_dotenv\n",
    "import os\n",
    "load_dotenv()\n",
    "from langchain_groq import ChatGroq\n",
    "\n",
    "os.environ[\"HF_TOKEN\"] = os.getenv(\"HF_TOKEN\")\n",
    "os.environ[\"GROQ_API_KEY\"] = os.getenv(\"GROQ_API_KEY\")\n",
    "\n",
    "from langchain_huggingface import HuggingFaceEmbeddings\n",
    "\n",
    "embeddings = HuggingFaceEmbeddings(model_name=\"sentence-transformers/all-mpnet-base-v2\")\n",
    "llm = ChatGroq(model=\"meta-llama/llama-4-scout-17b-16e-instruct\")"
   ]
  },
  {
   "cell_type": "code",
   "execution_count": 2,
   "id": "fd63909e",
   "metadata": {},
   "outputs": [
    {
     "data": {
      "text/plain": [
       "768"
      ]
     },
     "execution_count": 2,
     "metadata": {},
     "output_type": "execute_result"
    }
   ],
   "source": [
    "len(embeddings.embed_query(\"Hello sir\"))"
   ]
  },
  {
   "cell_type": "code",
   "execution_count": 3,
   "id": "e91b9d0b",
   "metadata": {},
   "outputs": [],
   "source": [
    "import faiss\n",
    "from langchain_community.vectorstores import FAISS\n",
    "from langchain_community.docstore.in_memory import InMemoryDocstore"
   ]
  },
  {
   "cell_type": "code",
   "execution_count": 4,
   "id": "953af055",
   "metadata": {},
   "outputs": [],
   "source": [
    "index = faiss.IndexFlatL2(768) ## if we want we can create co-sine then we can\n"
   ]
  },
  {
   "cell_type": "code",
   "execution_count": 5,
   "id": "881af0ff",
   "metadata": {},
   "outputs": [],
   "source": [
    "## create VectorStore\n",
    "\n",
    "vectoStore = FAISS(\n",
    "    index=index,\n",
    "    embedding_function=embeddings,\n",
    "    docstore=InMemoryDocstore(),\n",
    "    index_to_docstore_id={}\n",
    "    \n",
    ")"
   ]
  },
  {
   "cell_type": "code",
   "execution_count": 6,
   "id": "e5fd3689",
   "metadata": {},
   "outputs": [
    {
     "data": {
      "text/plain": [
       "['3683e169-2519-4584-854a-b4003d1f398a',\n",
       " '42c280ae-5bf0-449f-af3e-9d469b42b634',\n",
       " 'b0ef36ef-eea2-4cb1-b534-1a03b4d7d147']"
      ]
     },
     "execution_count": 6,
     "metadata": {},
     "output_type": "execute_result"
    }
   ],
   "source": [
    "vectoStore.add_texts([\"Agentic ai is the future\", \"Agentic ai is most powerful\", \"Dhaka is the capital of BD\"])"
   ]
  },
  {
   "cell_type": "code",
   "execution_count": 7,
   "id": "b4a74327",
   "metadata": {},
   "outputs": [
    {
     "data": {
      "text/plain": [
       "{0: '3683e169-2519-4584-854a-b4003d1f398a',\n",
       " 1: '42c280ae-5bf0-449f-af3e-9d469b42b634',\n",
       " 2: 'b0ef36ef-eea2-4cb1-b534-1a03b4d7d147'}"
      ]
     },
     "execution_count": 7,
     "metadata": {},
     "output_type": "execute_result"
    }
   ],
   "source": [
    "vectoStore.index_to_docstore_id"
   ]
  },
  {
   "cell_type": "code",
   "execution_count": 8,
   "id": "79e7811e",
   "metadata": {},
   "outputs": [
    {
     "data": {
      "text/plain": [
       "[Document(id='3683e169-2519-4584-854a-b4003d1f398a', metadata={}, page_content='Agentic ai is the future'),\n",
       " Document(id='42c280ae-5bf0-449f-af3e-9d469b42b634', metadata={}, page_content='Agentic ai is most powerful')]"
      ]
     },
     "execution_count": 8,
     "metadata": {},
     "output_type": "execute_result"
    }
   ],
   "source": [
    "vectoStore.similarity_search(\"tell me about agentic ai.\", k=2)"
   ]
  },
  {
   "cell_type": "code",
   "execution_count": 9,
   "id": "da2c8e43",
   "metadata": {},
   "outputs": [],
   "source": [
    "retriever = vectoStore.as_retriever()"
   ]
  },
  {
   "cell_type": "code",
   "execution_count": 10,
   "id": "f1404e9c",
   "metadata": {},
   "outputs": [
    {
     "data": {
      "text/plain": [
       "[Document(id='3683e169-2519-4584-854a-b4003d1f398a', metadata={}, page_content='Agentic ai is the future'),\n",
       " Document(id='42c280ae-5bf0-449f-af3e-9d469b42b634', metadata={}, page_content='Agentic ai is most powerful'),\n",
       " Document(id='b0ef36ef-eea2-4cb1-b534-1a03b4d7d147', metadata={}, page_content='Dhaka is the capital of BD')]"
      ]
     },
     "execution_count": 10,
     "metadata": {},
     "output_type": "execute_result"
    }
   ],
   "source": [
    "retriever.invoke(\"Tell me about agentic ai\")"
   ]
  },
  {
   "cell_type": "code",
   "execution_count": 11,
   "id": "dbf25fa9",
   "metadata": {},
   "outputs": [],
   "source": [
    "from langchain.schema import Document\n",
    "\n",
    "document_1 = Document(\n",
    "    page_content=\"AI tools are changing how students learn by adapting to their individual needs.\",\n",
    "    metadata={\"source\": \"news\"},\n",
    ")\n",
    "\n",
    "document_2 = Document(\n",
    "    page_content=\"Just tested an AI tutor that gives instant feedback—crazy how far tech has come!\",\n",
    "    metadata={\"source\": \"tweet\"},\n",
    ")\n",
    "\n",
    "document_3 = Document(\n",
    "    page_content=\"Personalized learning paths powered by LLMs can boost student performance.\",\n",
    "    metadata={\"source\": \"blog\"},\n",
    ")\n",
    "\n",
    "document_4 = Document(\n",
    "    page_content=\"AI-based systems can detect when students are struggling and offer support.\",\n",
    "    metadata={\"source\": \"article\"},\n",
    ")\n",
    "\n",
    "document_5 = Document(\n",
    "    page_content=\"LangChain’s new educational framework makes building AI tutors easier.\",\n",
    "    metadata={\"source\": \"tweet\"},\n",
    ")\n",
    "\n",
    "document_6 = Document(\n",
    "    page_content=\"Every failure brings you one step closer to success.\",\n",
    "    metadata={\"source\": \"tweet\"},\n",
    ")\n",
    "\n",
    "document_7 = Document(\n",
    "    page_content=\"OpenAI's latest model showcases improved reasoning and instruction-following.\",\n",
    "    metadata={\"source\": \"research\"},\n",
    ")\n",
    "\n",
    "document_8 = Document(\n",
    "    page_content=\"Studying late-night boosts retention more than cramming in the morning.\",\n",
    "    metadata={\"source\": \"study\"},\n",
    ")\n",
    "\n",
    "document_9 = Document(\n",
    "    page_content=\"Started using LangGraph to manage agent memory. Game changer!\",\n",
    "    metadata={\"source\": \"tweet\"},\n",
    ")\n",
    "\n",
    "document_10 = Document(\n",
    "    page_content=\"Python remains the most popular language in data science.\",\n",
    "    metadata={\"source\": \"article\"},\n",
    ")\n",
    "\n",
    "documents = [document_1, document_2, document_3, document_4, document_5, document_6, document_7, document_8, document_9, document_10]"
   ]
  },
  {
   "cell_type": "markdown",
   "id": "54a55daf",
   "metadata": {},
   "source": [
    "## Now create the Vector Store"
   ]
  },
  {
   "cell_type": "code",
   "execution_count": 12,
   "id": "c544cbe6",
   "metadata": {},
   "outputs": [],
   "source": [
    "index = faiss.IndexFlatIP(768)\n",
    "vector_store = FAISS(\n",
    " embedding_function=embeddings,\n",
    " index=index,\n",
    " docstore=InMemoryDocstore(),\n",
    " index_to_docstore_id={}\n",
    ")"
   ]
  },
  {
   "cell_type": "code",
   "execution_count": 13,
   "id": "27c2c185",
   "metadata": {},
   "outputs": [
    {
     "data": {
      "text/plain": [
       "['d13f993c-5059-4969-911e-db9d19aca132',\n",
       " '7170ebbd-3063-4dba-aaa1-4263f0d9dc09',\n",
       " '1d3b2379-ba9e-400e-83aa-028c453c1c70',\n",
       " '153a243c-3483-43a6-b2f1-2b04098019af',\n",
       " '0a548e0a-7bf3-43c5-bea6-d097a296a392',\n",
       " 'db8c89c7-d76a-4e8c-b210-6de39f6705ba',\n",
       " 'b564229e-add2-4c47-87d9-ebbacdb19055',\n",
       " '0ec73072-1360-4761-bbd5-e485393ca907',\n",
       " '6ed019b8-13c2-4420-b142-8616be6a750f',\n",
       " '39b46754-047d-411a-bf3c-13255067173c']"
      ]
     },
     "execution_count": 13,
     "metadata": {},
     "output_type": "execute_result"
    }
   ],
   "source": [
    "vector_store.add_documents(documents=documents)"
   ]
  },
  {
   "cell_type": "code",
   "execution_count": 17,
   "id": "14a0c02e",
   "metadata": {},
   "outputs": [
    {
     "data": {
      "text/plain": [
       "[(Document(id='7170ebbd-3063-4dba-aaa1-4263f0d9dc09', metadata={'source': 'tweet'}, page_content='Just tested an AI tutor that gives instant feedback—crazy how far tech has come!'),\n",
       "  0.1969367),\n",
       " (Document(id='0a548e0a-7bf3-43c5-bea6-d097a296a392', metadata={'source': 'tweet'}, page_content='LangChain’s new educational framework makes building AI tutors easier.'),\n",
       "  0.19558191)]"
      ]
     },
     "execution_count": 17,
     "metadata": {},
     "output_type": "execute_result"
    }
   ],
   "source": [
    "vector_store.similarity_search_with_score(\"How to boost student performance in study?\", k=2, filter={\"source\": \"tweet\"})"
   ]
  },
  {
   "cell_type": "code",
   "execution_count": 18,
   "id": "a8da6421",
   "metadata": {},
   "outputs": [],
   "source": [
    "retriever = vector_store.as_retriever(\n",
    "    search_kwargs={\n",
    "        \"k\": 3\n",
    "    }\n",
    ")"
   ]
  },
  {
   "cell_type": "code",
   "execution_count": 19,
   "id": "cbbad41e",
   "metadata": {},
   "outputs": [
    {
     "data": {
      "text/plain": [
       "[Document(id='0ec73072-1360-4761-bbd5-e485393ca907', metadata={'source': 'study'}, page_content='Studying late-night boosts retention more than cramming in the morning.'),\n",
       " Document(id='153a243c-3483-43a6-b2f1-2b04098019af', metadata={'source': 'article'}, page_content='AI-based systems can detect when students are struggling and offer support.'),\n",
       " Document(id='1d3b2379-ba9e-400e-83aa-028c453c1c70', metadata={'source': 'blog'}, page_content='Personalized learning paths powered by LLMs can boost student performance.')]"
      ]
     },
     "execution_count": 19,
     "metadata": {},
     "output_type": "execute_result"
    }
   ],
   "source": [
    "retriever.invoke(\"How to boost student performance in study?\")"
   ]
  },
  {
   "cell_type": "markdown",
   "id": "ec31091e",
   "metadata": {},
   "source": [
    "## Save the vector DB"
   ]
  },
  {
   "cell_type": "code",
   "execution_count": 20,
   "id": "b4e1604c",
   "metadata": {},
   "outputs": [],
   "source": [
    "vector_store.save_local(\"Local-faissDB\")"
   ]
  },
  {
   "cell_type": "code",
   "execution_count": 25,
   "id": "0dfea98f",
   "metadata": {},
   "outputs": [],
   "source": [
    "local_retriever = FAISS.load_local(\n",
    "    \"Local-faissDB\",\n",
    "    embeddings,\n",
    "    allow_dangerous_deserialization=True\n",
    ")"
   ]
  },
  {
   "cell_type": "code",
   "execution_count": 26,
   "id": "00933498",
   "metadata": {},
   "outputs": [],
   "source": [
    "local_new_retriever = local_retriever.as_retriever() ## default search result is 4\n"
   ]
  },
  {
   "cell_type": "code",
   "execution_count": 27,
   "id": "f2c17153",
   "metadata": {},
   "outputs": [
    {
     "data": {
      "text/plain": [
       "[Document(id='0ec73072-1360-4761-bbd5-e485393ca907', metadata={'source': 'study'}, page_content='Studying late-night boosts retention more than cramming in the morning.'),\n",
       " Document(id='153a243c-3483-43a6-b2f1-2b04098019af', metadata={'source': 'article'}, page_content='AI-based systems can detect when students are struggling and offer support.'),\n",
       " Document(id='1d3b2379-ba9e-400e-83aa-028c453c1c70', metadata={'source': 'blog'}, page_content='Personalized learning paths powered by LLMs can boost student performance.'),\n",
       " Document(id='d13f993c-5059-4969-911e-db9d19aca132', metadata={'source': 'news'}, page_content='AI tools are changing how students learn by adapting to their individual needs.')]"
      ]
     },
     "execution_count": 27,
     "metadata": {},
     "output_type": "execute_result"
    }
   ],
   "source": [
    "local_new_retriever.invoke(\"How to boost student performance in study?\")"
   ]
  },
  {
   "cell_type": "code",
   "execution_count": null,
   "id": "a0708553",
   "metadata": {},
   "outputs": [],
   "source": []
  }
 ],
 "metadata": {
  "kernelspec": {
   "display_name": "Python 3",
   "language": "python",
   "name": "python3"
  },
  "language_info": {
   "codemirror_mode": {
    "name": "ipython",
    "version": 3
   },
   "file_extension": ".py",
   "mimetype": "text/x-python",
   "name": "python",
   "nbconvert_exporter": "python",
   "pygments_lexer": "ipython3",
   "version": "3.12.0"
  }
 },
 "nbformat": 4,
 "nbformat_minor": 5
}

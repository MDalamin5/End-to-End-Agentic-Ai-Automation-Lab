{
 "cells": [
  {
   "cell_type": "code",
   "execution_count": 1,
   "id": "dda51252",
   "metadata": {},
   "outputs": [],
   "source": [
    "from dotenv import load_dotenv\n",
    "from langchain_huggingface import HuggingFaceEmbeddings\n",
    "import os\n",
    "from langchain_groq import ChatGroq\n",
    "load_dotenv\n",
    "os.environ[\"HF_TOKEN\"]=os.getenv(\"HF_TOKEN\")\n",
    "os.environ[\"GROQ_API_KEY\"] = os.getenv(\"GROQ_API_KEY\")\n",
    "os.environ[\"GEMINI_API_KEY\"] = os.getenv(\"GEMINI_API_KEY\")"
   ]
  },
  {
   "cell_type": "code",
   "execution_count": 2,
   "id": "99afcc12",
   "metadata": {},
   "outputs": [
    {
     "name": "stderr",
     "output_type": "stream",
     "text": [
      "C:\\Users\\Lenovo\\AppData\\Roaming\\Python\\Python312\\site-packages\\tqdm\\auto.py:21: TqdmWarning: IProgress not found. Please update jupyter and ipywidgets. See https://ipywidgets.readthedocs.io/en/stable/user_install.html\n",
      "  from .autonotebook import tqdm as notebook_tqdm\n"
     ]
    }
   ],
   "source": [
    "embeddings = HuggingFaceEmbeddings(model_name=\"sentence-transformers/all-mpnet-base-v2\")\n",
    "llm = ChatGroq(model=\"meta-llama/llama-4-scout-17b-16e-instruct\")"
   ]
  },
  {
   "cell_type": "code",
   "execution_count": 3,
   "id": "2cf1c879",
   "metadata": {},
   "outputs": [
    {
     "data": {
      "text/plain": [
       "768"
      ]
     },
     "execution_count": 3,
     "metadata": {},
     "output_type": "execute_result"
    }
   ],
   "source": [
    "len(embeddings.embed_query(\"hi\"))"
   ]
  },
  {
   "cell_type": "code",
   "execution_count": 4,
   "id": "8f8ab97a",
   "metadata": {},
   "outputs": [],
   "source": [
    "from pinecone import Pinecone\n",
    "os.environ[\"PINECONE_API_KEY\"] = os.getenv(\"PINECONE_API_KEY\")\n",
    "\n",
    "pinecone_api_key = os.getenv(\"PINECONE_API_KEY\")"
   ]
  },
  {
   "cell_type": "code",
   "execution_count": 5,
   "id": "0915db66",
   "metadata": {},
   "outputs": [],
   "source": [
    "pc = Pinecone(api_key=pinecone_api_key)"
   ]
  },
  {
   "cell_type": "code",
   "execution_count": null,
   "id": "c01fc15d",
   "metadata": {},
   "outputs": [],
   "source": [
    "from pinecone import ServerlessSpec ## you are not going to mange the server. and its managed by the cloud provider.\n",
    "## create index\n",
    "index_name = \"cloud-db\"\n",
    "\n",
    "if not pc.has_index(index_name):\n",
    "    pc.create_index(\n",
    "    name=index_name,\n",
    "    dimension=768,\n",
    "    metric=\"dotproduct\",\n",
    "    spec=ServerlessSpec(\n",
    "        cloud=\"aws\",\n",
    "        region=\"us-east-1\"\n",
    "    )\n",
    ")"
   ]
  },
  {
   "cell_type": "code",
   "execution_count": 7,
   "id": "d0af6fda",
   "metadata": {},
   "outputs": [],
   "source": [
    "## loading the my db index\n",
    "index = pc.Index(index_name)"
   ]
  },
  {
   "cell_type": "code",
   "execution_count": 8,
   "id": "ddcd6f15",
   "metadata": {},
   "outputs": [],
   "source": [
    "from langchain_pinecone import PineconeVectorStore\n",
    "\n",
    "vector_store = PineconeVectorStore(index=index, embedding=embeddings)"
   ]
  },
  {
   "cell_type": "code",
   "execution_count": 9,
   "id": "c4899e84",
   "metadata": {},
   "outputs": [],
   "source": [
    "from langchain.schema import Document\n",
    "\n",
    "document_1 = Document(\n",
    "    page_content=\"AI tools are changing how students learn by adapting to their individual needs.\",\n",
    "    metadata={\"source\": \"news\"},\n",
    ")\n",
    "\n",
    "document_2 = Document(\n",
    "    page_content=\"Just tested an AI tutor that gives instant feedback—crazy how far tech has come!\",\n",
    "    metadata={\"source\": \"tweet\"},\n",
    ")\n",
    "\n",
    "document_3 = Document(\n",
    "    page_content=\"Personalized learning paths powered by LLMs can boost student performance.\",\n",
    "    metadata={\"source\": \"blog\"},\n",
    ")\n",
    "\n",
    "document_4 = Document(\n",
    "    page_content=\"AI-based systems can detect when students are struggling and offer support.\",\n",
    "    metadata={\"source\": \"article\"},\n",
    ")\n",
    "\n",
    "document_5 = Document(\n",
    "    page_content=\"LangChain’s new educational framework makes building AI tutors easier.\",\n",
    "    metadata={\"source\": \"tweet\"},\n",
    ")\n",
    "\n",
    "document_6 = Document(\n",
    "    page_content=\"Every failure brings you one step closer to success.\",\n",
    "    metadata={\"source\": \"tweet\"},\n",
    ")\n",
    "\n",
    "document_7 = Document(\n",
    "    page_content=\"OpenAI's latest model showcases improved reasoning and instruction-following.\",\n",
    "    metadata={\"source\": \"research\"},\n",
    ")\n",
    "\n",
    "document_8 = Document(\n",
    "    page_content=\"Studying late-night boosts retention more than cramming in the morning.\",\n",
    "    metadata={\"source\": \"study\"},\n",
    ")\n",
    "\n",
    "document_9 = Document(\n",
    "    page_content=\"Started using LangGraph to manage agent memory. Game changer!\",\n",
    "    metadata={\"source\": \"tweet\"},\n",
    ")\n",
    "\n",
    "document_10 = Document(\n",
    "    page_content=\"Python remains the most popular language in data science.\",\n",
    "    metadata={\"source\": \"article\"},\n",
    ")\n",
    "\n",
    "documents = [document_1, document_2, document_3, document_4, document_5, document_6, document_7, document_8, document_9, document_10]"
   ]
  },
  {
   "cell_type": "code",
   "execution_count": 10,
   "id": "4634b0c1",
   "metadata": {},
   "outputs": [
    {
     "data": {
      "text/plain": [
       "['5c6ef5b4-85be-4e64-97dd-89087b1d9ae7',\n",
       " 'e06c40bb-f32e-4bae-97ce-d091ece9c540',\n",
       " '75422262-1fe7-4e1c-abd2-85def7d1c9db',\n",
       " '83fd2dfc-7891-4ab9-bcb5-ea35b378c9c8',\n",
       " 'aa873f11-c443-4d87-9a88-b31fe7b1fd10',\n",
       " '6433ef98-8a18-4d5b-953f-05357ce31953',\n",
       " 'ca6b637d-4e06-4366-a502-fec3aa09da4f',\n",
       " '239dcd12-6340-4ae8-b989-617feb256799',\n",
       " 'dd7c7958-f2a8-428e-9c88-730070b7d539',\n",
       " '01d61e62-2601-4630-ba29-58424c8f8200']"
      ]
     },
     "execution_count": 10,
     "metadata": {},
     "output_type": "execute_result"
    }
   ],
   "source": [
    "vector_store.add_documents(documents=documents)"
   ]
  },
  {
   "cell_type": "code",
   "execution_count": 12,
   "id": "ab195b08",
   "metadata": {},
   "outputs": [
    {
     "data": {
      "text/plain": [
       "[(Document(id='01d61e62-2601-4630-ba29-58424c8f8200', metadata={'source': 'article'}, page_content='Python remains the most popular language in data science.'),\n",
       "  0.893677711),\n",
       " (Document(id='dd7c7958-f2a8-428e-9c88-730070b7d539', metadata={'source': 'tweet'}, page_content='Started using LangGraph to manage agent memory. Game changer!'),\n",
       "  0.278898239)]"
      ]
     },
     "execution_count": 12,
     "metadata": {},
     "output_type": "execute_result"
    }
   ],
   "source": [
    "vector_store.similarity_search_with_score(\"Why python is the most popular language for Data science\", k=2)"
   ]
  },
  {
   "cell_type": "code",
   "execution_count": 22,
   "id": "1ecf3f41",
   "metadata": {},
   "outputs": [],
   "source": [
    "retriever = vector_store.as_retriever(\n",
    "    search_type = \"similarity_score_threshold\",\n",
    "    search_kwargs={\n",
    "        \"k\": 3,\n",
    "        \"score_threshold\": 0.8\n",
    "    }\n",
    "    \n",
    "    \n",
    ")"
   ]
  },
  {
   "cell_type": "code",
   "execution_count": 23,
   "id": "1196f0d7",
   "metadata": {},
   "outputs": [
    {
     "data": {
      "text/plain": [
       "[Document(id='01d61e62-2601-4630-ba29-58424c8f8200', metadata={'source': 'article'}, page_content='Python remains the most popular language in data science.')]"
      ]
     },
     "execution_count": 23,
     "metadata": {},
     "output_type": "execute_result"
    }
   ],
   "source": [
    "retriever.invoke(\"Why python is the most popular language for Data science\")"
   ]
  },
  {
   "cell_type": "code",
   "execution_count": 24,
   "id": "a1f2c5d8",
   "metadata": {},
   "outputs": [],
   "source": [
    "from langchain_core.output_parsers import StrOutputParser\n",
    "from langchain import hub\n",
    "\n",
    "prompt = hub.pull(\"rlm/rag-prompt\")"
   ]
  },
  {
   "cell_type": "code",
   "execution_count": 25,
   "id": "5f7cbb34",
   "metadata": {},
   "outputs": [
    {
     "data": {
      "text/plain": [
       "[HumanMessagePromptTemplate(prompt=PromptTemplate(input_variables=['context', 'question'], input_types={}, partial_variables={}, template=\"You are an assistant for question-answering tasks. Use the following pieces of retrieved context to answer the question. If you don't know the answer, just say that you don't know. Use three sentences maximum and keep the answer concise.\\nQuestion: {question} \\nContext: {context} \\nAnswer:\"), additional_kwargs={})]"
      ]
     },
     "execution_count": 25,
     "metadata": {},
     "output_type": "execute_result"
    }
   ],
   "source": [
    "prompt.messages"
   ]
  },
  {
   "cell_type": "code",
   "execution_count": 27,
   "id": "c88d4336",
   "metadata": {},
   "outputs": [],
   "source": [
    "from langchain_core.runnables import RunnablePassthrough\n",
    "\n",
    "def format_docs(retriever_docs):\n",
    "    context_text = \"\\n\\n\".join(doc.page_content for doc in retriever_docs)\n",
    "    return context_text"
   ]
  },
  {
   "cell_type": "code",
   "execution_count": 28,
   "id": "0a7a36fc",
   "metadata": {},
   "outputs": [
    {
     "data": {
      "image/png": "[encoded data removed]",
      "text/plain": [
       "<IPython.core.display.Image object>"
      ]
     },
     "metadata": {},
     "output_type": "display_data"
    }
   ],
   "source": [
    "from IPython.display import display, Image\n",
    "rag_chain = (\n",
    "    {\n",
    "        \"context\": retriever | format_docs,\n",
    "        \"question\": RunnablePassthrough()\n",
    "    }\n",
    "    | prompt\n",
    "    | llm\n",
    "    | StrOutputParser()\n",
    ")\n",
    "\n",
    "display(Image(rag_chain.get_graph().draw_mermaid_png()))"
   ]
  },
  {
   "cell_type": "code",
   "execution_count": 29,
   "id": "260185c6",
   "metadata": {},
   "outputs": [
    {
     "data": {
      "text/plain": [
       "\"Python is the most popular language for data science, but the context doesn't specify why. Therefore, I don't know the specific reasons for its popularity.\""
      ]
     },
     "execution_count": 29,
     "metadata": {},
     "output_type": "execute_result"
    }
   ],
   "source": [
    "rag_chain.invoke(\"Why python is the most popular language for Data science\")"
   ]
  },
  {
   "cell_type": "code",
   "execution_count": null,
   "id": "cb15391c",
   "metadata": {},
   "outputs": [],
   "source": []
  }
 ],
 "metadata": {
  "kernelspec": {
   "display_name": "Python 3",
   "language": "python",
   "name": "python3"
  },
  "language_info": {
   "codemirror_mode": {
    "name": "ipython",
    "version": 3
   },
   "file_extension": ".py",
   "mimetype": "text/x-python",
   "name": "python",
   "nbconvert_exporter": "python",
   "pygments_lexer": "ipython3",
   "version": "3.12.0"
  }
 },
 "nbformat": 4,
 "nbformat_minor": 5
}

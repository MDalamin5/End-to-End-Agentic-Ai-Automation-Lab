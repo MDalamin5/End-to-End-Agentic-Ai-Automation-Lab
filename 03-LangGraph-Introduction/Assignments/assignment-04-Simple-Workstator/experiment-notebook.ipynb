{
 "cells": [
  {
   "cell_type": "code",
   "execution_count": 1,
   "id": "342ead82",
   "metadata": {},
   "outputs": [],
   "source": [
    "from langchain_groq import ChatGroq\n",
    "from langchain_tavily import TavilySearch\n",
    "from langchain_core.prompts import PromptTemplate\n",
    "from pydantic import BaseModel, Field\n",
    "from typing import TypedDict, Annotated\n",
    "import faiss\n",
    "from langchain_community.vectorstores import FAISS"
   ]
  },
  {
   "cell_type": "markdown",
   "id": "1baaf8d6",
   "metadata": {},
   "source": [
    "## **Prepare vector Store and Sentence embedding**"
   ]
  },
  {
   "cell_type": "code",
   "execution_count": 2,
   "id": "6644c15b",
   "metadata": {},
   "outputs": [
    {
     "data": {
      "text/plain": [
       "15"
      ]
     },
     "execution_count": 2,
     "metadata": {},
     "output_type": "execute_result"
    }
   ],
   "source": [
    "from langchain_community.document_loaders import PyPDFLoader\n",
    "\n",
    "loader = PyPDFLoader(\"data/attentation-all-you-need.pdf\")\n",
    "docs = loader.load()\n",
    "len(docs)"
   ]
  },
  {
   "cell_type": "code",
   "execution_count": 3,
   "id": "f8c45a5b",
   "metadata": {},
   "outputs": [
    {
     "data": {
      "text/plain": [
       "96"
      ]
     },
     "execution_count": 3,
     "metadata": {},
     "output_type": "execute_result"
    }
   ],
   "source": [
    "from langchain_text_splitters import RecursiveCharacterTextSplitter\n",
    "\n",
    "splitter = RecursiveCharacterTextSplitter(\n",
    "    chunk_size = 500,\n",
    "    chunk_overlap = 80\n",
    ")\n",
    "\n",
    "documents = splitter.split_documents(documents=docs)\n",
    "len(documents)"
   ]
  },
  {
   "cell_type": "code",
   "execution_count": 4,
   "id": "cc2dd46e",
   "metadata": {},
   "outputs": [
    {
     "data": {
      "text/plain": [
       "Document(metadata={'producer': 'pdfTeX-1.40.25', 'creator': 'LaTeX with hyperref', 'creationdate': '2024-04-10T21:11:43+00:00', 'author': '', 'keywords': '', 'moddate': '2024-04-10T21:11:43+00:00', 'ptex.fullbanner': 'This is pdfTeX, Version 3.141592653-2.6-1.40.25 (TeX Live 2023) kpathsea version 6.3.5', 'subject': '', 'title': '', 'trapped': '/False', 'source': 'data/attentation-all-you-need.pdf', 'total_pages': 15, 'page': 0, 'page_label': '1'}, page_content='detail. Niki designed, implemented, tuned and evaluated countless model variants in our original codebase and\\ntensor2tensor. Llion also experimented with novel model variants, was responsible for our initial codebase, and\\nefficient inference and visualizations. Lukasz and Aidan spent countless long days designing various parts of and\\nimplementing tensor2tensor, replacing our earlier codebase, greatly improving results and massively accelerating\\nour research.')"
      ]
     },
     "execution_count": 4,
     "metadata": {},
     "output_type": "execute_result"
    }
   ],
   "source": [
    "documents[5]"
   ]
  },
  {
   "cell_type": "code",
   "execution_count": 5,
   "id": "a2ca5d67",
   "metadata": {},
   "outputs": [
    {
     "name": "stderr",
     "output_type": "stream",
     "text": [
      "c:\\Users\\IT BD\\anaconda3\\envs\\ailb\\lib\\site-packages\\tqdm\\auto.py:21: TqdmWarning: IProgress not found. Please update jupyter and ipywidgets. See https://ipywidgets.readthedocs.io/en/stable/user_install.html\n",
      "  from .autonotebook import tqdm as notebook_tqdm\n"
     ]
    }
   ],
   "source": [
    "from dotenv import load_dotenv\n",
    "import os\n",
    "load_dotenv()\n",
    "from langchain_groq import ChatGroq\n",
    "\n",
    "os.environ[\"HF_TOKEN\"] = os.getenv(\"HF_TOKEN\")\n",
    "os.environ[\"GROQ_API_KEY\"] = os.getenv(\"GROQ_API_KEY\")\n",
    "\n",
    "from langchain_huggingface import HuggingFaceEmbeddings\n",
    "\n",
    "embeddings = HuggingFaceEmbeddings(model_name=\"sentence-transformers/all-mpnet-base-v2\")\n",
    "llm = ChatGroq(model=\"meta-llama/llama-4-scout-17b-16e-instruct\")"
   ]
  },
  {
   "cell_type": "code",
   "execution_count": 6,
   "id": "e02ac8ac",
   "metadata": {},
   "outputs": [
    {
     "data": {
      "text/plain": [
       "768"
      ]
     },
     "execution_count": 6,
     "metadata": {},
     "output_type": "execute_result"
    }
   ],
   "source": [
    "len(embeddings.embed_query(\"hello\"))"
   ]
  },
  {
   "cell_type": "code",
   "execution_count": 7,
   "id": "7dd6af1e",
   "metadata": {},
   "outputs": [],
   "source": [
    "index = faiss.IndexFlatIP(768)"
   ]
  },
  {
   "cell_type": "code",
   "execution_count": 8,
   "id": "d03d55b5",
   "metadata": {},
   "outputs": [],
   "source": [
    "from langchain_community.docstore.in_memory import InMemoryDocstore"
   ]
  },
  {
   "cell_type": "code",
   "execution_count": 9,
   "id": "ec7ca726",
   "metadata": {},
   "outputs": [],
   "source": [
    "vector_store = FAISS(\n",
    " embedding_function=embeddings,\n",
    " index=index,\n",
    " docstore=InMemoryDocstore(),\n",
    " index_to_docstore_id={}\n",
    ")"
   ]
  },
  {
   "cell_type": "code",
   "execution_count": 10,
   "id": "e315f8ac",
   "metadata": {},
   "outputs": [
    {
     "data": {
      "text/plain": [
       "['880c48fc-cf44-4764-8204-7b80ea016cbd',\n",
       " 'fa2a710c-f40d-4aaa-a252-4fb897650cf6',\n",
       " 'a95ab0c1-62a6-4d28-8369-01df00445065',\n",
       " '8af26964-ad26-4329-9a09-d47318fac05f',\n",
       " 'dfabf339-b047-42db-81d4-9d343d7b2b48',\n",
       " 'ca826111-a542-4481-993f-3cdf776a3321',\n",
       " 'f8336619-8a13-4aa7-af76-d57d847df8ff',\n",
       " 'dafda30a-33bf-46ae-99b9-21b39221a5aa',\n",
       " '6ba8f2b9-e9ed-433a-a25c-9077a8bbf8a2',\n",
       " '845a151e-3cb6-4a47-846a-8813a24d9689',\n",
       " 'f5109338-eb7d-4b20-a9d2-cc0ca2736a4b',\n",
       " '62fe1536-18a3-4f58-86df-e4a575c30eca',\n",
       " '0a22c338-099e-4c3c-bde9-405d2fd8d2ca',\n",
       " '73301dbf-2334-438d-8fe9-418c1e2da4ef',\n",
       " '11c4de29-860a-4d94-862d-8f3e2dd964e9',\n",
       " 'a92d9716-257a-4510-b220-fd95ae682e8f',\n",
       " '8e757695-b80c-42c4-a83e-ae9a78fb07a5',\n",
       " 'fd1cf538-53d1-4016-b00c-9cbe7f095b2e',\n",
       " '9750849e-8559-429d-be09-370b2112783f',\n",
       " '4ad83f5d-6071-43e5-bc92-56e791e5bcf4',\n",
       " '6961ee20-2490-4c2f-a2e0-a403c797918f',\n",
       " 'a2b597b4-68e7-47c3-975d-233a4f1d4507',\n",
       " 'c51d434c-66ea-4377-ad87-a4baa5004263',\n",
       " '7a380dcd-74cc-4a49-8c96-919435532792',\n",
       " '9b6d2595-38f2-460f-8d42-5709e838f5f3',\n",
       " '7f14a5b9-4143-427e-a8f8-710213a1b2e2',\n",
       " 'c940c971-433e-4aea-97d6-d4648f421fc8',\n",
       " '94609cab-a502-448b-9778-bdb3f9a25cab',\n",
       " '3d8ae3cf-04d6-4c72-b510-c9dd5c418a2c',\n",
       " '895ef170-93a8-4493-8e48-ac230947ba03',\n",
       " '784ac978-cf02-44d3-9c39-43db481dde40',\n",
       " 'eb53ae96-c655-4017-9aeb-a27d8ee772e0',\n",
       " 'ff20480d-5711-4b87-98c8-32a4c6e89347',\n",
       " '7ed2b987-1112-480e-9202-f8f6bd71b27c',\n",
       " 'bb37314e-b868-4990-af5f-98ab91d3cf53',\n",
       " '4d4657bf-d40e-45fb-a934-a6b9879710eb',\n",
       " 'c258d3c0-cf8b-4346-9228-ff38818dc59c',\n",
       " '758d6151-8470-4c88-b63d-dfc5f6450ec2',\n",
       " 'c627f65a-4897-4448-80d0-ea03039b1bb4',\n",
       " 'f61f9440-a6d6-4aec-b10d-56a23b503e93',\n",
       " '3584448a-5b64-4312-8a04-358ea178951e',\n",
       " '4586de3a-4dfd-45f8-8983-575de46fb0d1',\n",
       " 'ef03415e-3c41-4fa4-bbe7-3c432621e68d',\n",
       " 'd5043cf8-17ac-4194-9010-bd82f9f273fd',\n",
       " '81386c35-70cb-4709-927d-37d081f29b1d',\n",
       " '48d0c6d4-a22f-4301-8dcb-bbee1d9b4e0b',\n",
       " '173ef3ca-cd31-4fd8-9d5a-4a780c6a2f68',\n",
       " 'ffa14bba-21a5-4053-b4c9-9a2944c5bf1e',\n",
       " '71b07ee9-0102-4b1a-9ebc-9d78b99bd824',\n",
       " '8d31f431-7ce2-4217-88d3-79bb673d05a4',\n",
       " '1f9c94be-b259-41ec-aadf-304bed415b54',\n",
       " '732ab2ae-04d2-4b3d-84ca-091fed5cbb37',\n",
       " 'bb06098c-ad5b-49cb-8d00-77240ba34be6',\n",
       " '11378e46-4a15-4ebc-aaa1-9a53aba75805',\n",
       " 'dcf1dff9-e975-45e4-89cb-f1c7c0d18c9f',\n",
       " '61f37a26-7f08-4720-be06-4be7b1a98b94',\n",
       " 'a3fa3b35-20c0-46e2-8715-aa65ca32a4fb',\n",
       " '08b0bc1c-2afa-4656-a69c-1211487387fd',\n",
       " 'b6f34a8c-a7ef-40f7-a5c5-ad794168a925',\n",
       " '10618e56-a702-4fa8-aacb-f41dc5499098',\n",
       " 'c3afbbfb-34e1-49ea-9bda-3625c7a56922',\n",
       " '04d4679f-f8e7-4f4d-8717-abbff6b99247',\n",
       " '17dcfba1-8d02-4a15-809a-6c90dea7853a',\n",
       " '6ca979b0-d703-4f75-9855-f995a3405514',\n",
       " 'a586780f-df9c-480d-86b1-b37adfb5daba',\n",
       " 'ff3b433e-b4a2-4e5d-9638-5f0a18f54fba',\n",
       " '9f67da91-8b7e-48d4-9ac5-6c20a6b4a313',\n",
       " '97d6106e-b6bc-407b-8d46-e07dab7fbae0',\n",
       " '13b9079c-6236-4a64-9d72-0806178ff1b4',\n",
       " '28e0eeb8-e6f9-4243-86f0-27604db29724',\n",
       " '8227c196-2662-44ae-9660-90bd963e8f82',\n",
       " 'def770e5-c171-4f19-9430-b730de393cd9',\n",
       " '88846c3a-3f6f-47a7-82db-04207c7f3f85',\n",
       " '24b00623-9403-4cb5-b6a5-a98b41dcc38b',\n",
       " '243a5a8a-4dec-4cfc-bd64-9ce113255f65',\n",
       " 'f3f85172-3325-42bd-bbae-fe2c5db40d9a',\n",
       " 'c496a2fb-574c-4479-9903-4d4248e02a22',\n",
       " 'c68f6a8d-2994-4b18-bd28-71e1f826e2ed',\n",
       " '6a5204ef-bf42-45f5-a027-f6bc4556ed29',\n",
       " '081a02ca-93b2-40d1-a428-afa75e2335f7',\n",
       " '539766d0-4aca-4008-a805-01c636832cc9',\n",
       " '3fac298a-cd33-4066-b741-82d06eb18f73',\n",
       " 'd835e572-f02b-420f-b22a-3cac6377008f',\n",
       " 'e184c634-169b-4c93-9711-5211d8b20ca4',\n",
       " '56b5b881-0a91-48a5-84ae-2463d2fb9c4a',\n",
       " '9f849a46-6cb7-43fe-a454-7058984b431f',\n",
       " '0258f896-420e-4034-b0fa-22040106a5db',\n",
       " '2699558d-919e-4244-ba71-18108b1b975d',\n",
       " '65b54edf-1260-4dc0-9352-e75c979081da',\n",
       " '5d60d381-bcfe-4ba3-aebc-7f7fe0ad8c2b',\n",
       " 'cca360e1-d73d-4655-ab0b-6bb67f4b3b20',\n",
       " '607948d3-37c5-42e9-874a-64b1f69886fc',\n",
       " '541c2e6f-387b-460f-a10a-38831885db2c',\n",
       " 'eccc36b8-6d16-4ca1-9044-390f8c10d259',\n",
       " '5e9de633-c4fb-4be6-ac84-6d070beff4b7',\n",
       " '5839de99-7522-44df-a105-56df5af09bd7']"
      ]
     },
     "execution_count": 10,
     "metadata": {},
     "output_type": "execute_result"
    }
   ],
   "source": [
    "vector_store.add_documents(documents=documents)"
   ]
  },
  {
   "cell_type": "code",
   "execution_count": 11,
   "id": "4730819f",
   "metadata": {},
   "outputs": [
    {
     "data": {
      "text/plain": [
       "[Document(id='81386c35-70cb-4709-927d-37d081f29b1d', metadata={'producer': 'pdfTeX-1.40.25', 'creator': 'LaTeX with hyperref', 'creationdate': '2024-04-10T21:11:43+00:00', 'author': '', 'keywords': '', 'moddate': '2024-04-10T21:11:43+00:00', 'ptex.fullbanner': 'This is pdfTeX, Version 3.141592653-2.6-1.40.25 (TeX Live 2023) kpathsea version 6.3.5', 'subject': '', 'title': '', 'trapped': '/False', 'source': 'data/attentation-all-you-need.pdf', 'total_pages': 15, 'page': 5, 'page_label': '6'}, page_content='the maximum path length between any two input and output positions in networks composed of the\\ndifferent layer types.\\nAs noted in Table 1, a self-attention layer connects all positions with a constant number of sequentially\\nexecuted operations, whereas a recurrent layer requires O(n) sequential operations. In terms of\\ncomputational complexity, self-attention layers are faster than recurrent layers when the sequence\\n6'),\n",
       " Document(id='c68f6a8d-2994-4b18-bd28-71e1f826e2ed', metadata={'producer': 'pdfTeX-1.40.25', 'creator': 'LaTeX with hyperref', 'creationdate': '2024-04-10T21:11:43+00:00', 'author': '', 'keywords': '', 'moddate': '2024-04-10T21:11:43+00:00', 'ptex.fullbanner': 'This is pdfTeX, Version 3.141592653-2.6-1.40.25 (TeX Live 2023) kpathsea version 6.3.5', 'subject': '', 'title': '', 'trapped': '/False', 'source': 'data/attentation-all-you-need.pdf', 'total_pages': 15, 'page': 10, 'page_label': '11'}, page_content='arXiv:1308.0850, 2013.\\n[11] Kaiming He, Xiangyu Zhang, Shaoqing Ren, and Jian Sun. Deep residual learning for im-\\nage recognition. In Proceedings of the IEEE Conference on Computer Vision and Pattern\\nRecognition, pages 770–778, 2016.\\n[12] Sepp Hochreiter, Yoshua Bengio, Paolo Frasconi, and Jürgen Schmidhuber. Gradient flow in\\nrecurrent nets: the difficulty of learning long-term dependencies, 2001.\\n[13] Sepp Hochreiter and Jürgen Schmidhuber. Long short-term memory. Neural computation,'),\n",
       " Document(id='6ba8f2b9-e9ed-433a-a25c-9077a8bbf8a2', metadata={'producer': 'pdfTeX-1.40.25', 'creator': 'LaTeX with hyperref', 'creationdate': '2024-04-10T21:11:43+00:00', 'author': '', 'keywords': '', 'moddate': '2024-04-10T21:11:43+00:00', 'ptex.fullbanner': 'This is pdfTeX, Version 3.141592653-2.6-1.40.25 (TeX Live 2023) kpathsea version 6.3.5', 'subject': '', 'title': '', 'trapped': '/False', 'source': 'data/attentation-all-you-need.pdf', 'total_pages': 15, 'page': 1, 'page_label': '2'}, page_content='architectures [38, 24, 15].\\nRecurrent models typically factor computation along the symbol positions of the input and output\\nsequences. Aligning the positions to steps in computation time, they generate a sequence of hidden\\nstates ht, as a function of the previous hidden state ht−1 and the input for position t. This inherently\\nsequential nature precludes parallelization within training examples, which becomes critical at longer'),\n",
       " Document(id='7ed2b987-1112-480e-9202-f8f6bd71b27c', metadata={'producer': 'pdfTeX-1.40.25', 'creator': 'LaTeX with hyperref', 'creationdate': '2024-04-10T21:11:43+00:00', 'author': '', 'keywords': '', 'moddate': '2024-04-10T21:11:43+00:00', 'ptex.fullbanner': 'This is pdfTeX, Version 3.141592653-2.6-1.40.25 (TeX Live 2023) kpathsea version 6.3.5', 'subject': '', 'title': '', 'trapped': '/False', 'source': 'data/attentation-all-you-need.pdf', 'total_pages': 15, 'page': 4, 'page_label': '5'}, page_content='information flow in the decoder to preserve the auto-regressive property. We implement this\\ninside of scaled dot-product attention by masking out (setting to −∞) all values in the input\\nof the softmax which correspond to illegal connections. See Figure 2.\\n3.3 Position-wise Feed-Forward Networks\\nIn addition to attention sub-layers, each of the layers in our encoder and decoder contains a fully\\nconnected feed-forward network, which is applied to each position separately and identically. This')]"
      ]
     },
     "execution_count": 11,
     "metadata": {},
     "output_type": "execute_result"
    }
   ],
   "source": [
    "vector_store.similarity_search(query=\"What is autoregressive?\")"
   ]
  },
  {
   "cell_type": "code",
   "execution_count": 12,
   "id": "4eb50a3e",
   "metadata": {},
   "outputs": [],
   "source": [
    "retriever = vector_store.as_retriever(\n",
    "    search_type = \"similarity\",\n",
    "    search_kwargs={\n",
    "        \"k\": 3\n",
    "    }\n",
    ")"
   ]
  },
  {
   "cell_type": "code",
   "execution_count": 13,
   "id": "09f594bf",
   "metadata": {},
   "outputs": [
    {
     "data": {
      "text/plain": [
       "[Document(id='81386c35-70cb-4709-927d-37d081f29b1d', metadata={'producer': 'pdfTeX-1.40.25', 'creator': 'LaTeX with hyperref', 'creationdate': '2024-04-10T21:11:43+00:00', 'author': '', 'keywords': '', 'moddate': '2024-04-10T21:11:43+00:00', 'ptex.fullbanner': 'This is pdfTeX, Version 3.141592653-2.6-1.40.25 (TeX Live 2023) kpathsea version 6.3.5', 'subject': '', 'title': '', 'trapped': '/False', 'source': 'data/attentation-all-you-need.pdf', 'total_pages': 15, 'page': 5, 'page_label': '6'}, page_content='the maximum path length between any two input and output positions in networks composed of the\\ndifferent layer types.\\nAs noted in Table 1, a self-attention layer connects all positions with a constant number of sequentially\\nexecuted operations, whereas a recurrent layer requires O(n) sequential operations. In terms of\\ncomputational complexity, self-attention layers are faster than recurrent layers when the sequence\\n6'),\n",
       " Document(id='c68f6a8d-2994-4b18-bd28-71e1f826e2ed', metadata={'producer': 'pdfTeX-1.40.25', 'creator': 'LaTeX with hyperref', 'creationdate': '2024-04-10T21:11:43+00:00', 'author': '', 'keywords': '', 'moddate': '2024-04-10T21:11:43+00:00', 'ptex.fullbanner': 'This is pdfTeX, Version 3.141592653-2.6-1.40.25 (TeX Live 2023) kpathsea version 6.3.5', 'subject': '', 'title': '', 'trapped': '/False', 'source': 'data/attentation-all-you-need.pdf', 'total_pages': 15, 'page': 10, 'page_label': '11'}, page_content='arXiv:1308.0850, 2013.\\n[11] Kaiming He, Xiangyu Zhang, Shaoqing Ren, and Jian Sun. Deep residual learning for im-\\nage recognition. In Proceedings of the IEEE Conference on Computer Vision and Pattern\\nRecognition, pages 770–778, 2016.\\n[12] Sepp Hochreiter, Yoshua Bengio, Paolo Frasconi, and Jürgen Schmidhuber. Gradient flow in\\nrecurrent nets: the difficulty of learning long-term dependencies, 2001.\\n[13] Sepp Hochreiter and Jürgen Schmidhuber. Long short-term memory. Neural computation,'),\n",
       " Document(id='6ba8f2b9-e9ed-433a-a25c-9077a8bbf8a2', metadata={'producer': 'pdfTeX-1.40.25', 'creator': 'LaTeX with hyperref', 'creationdate': '2024-04-10T21:11:43+00:00', 'author': '', 'keywords': '', 'moddate': '2024-04-10T21:11:43+00:00', 'ptex.fullbanner': 'This is pdfTeX, Version 3.141592653-2.6-1.40.25 (TeX Live 2023) kpathsea version 6.3.5', 'subject': '', 'title': '', 'trapped': '/False', 'source': 'data/attentation-all-you-need.pdf', 'total_pages': 15, 'page': 1, 'page_label': '2'}, page_content='architectures [38, 24, 15].\\nRecurrent models typically factor computation along the symbol positions of the input and output\\nsequences. Aligning the positions to steps in computation time, they generate a sequence of hidden\\nstates ht, as a function of the previous hidden state ht−1 and the input for position t. This inherently\\nsequential nature precludes parallelization within training examples, which becomes critical at longer')]"
      ]
     },
     "execution_count": 13,
     "metadata": {},
     "output_type": "execute_result"
    }
   ],
   "source": [
    "retriever.invoke(\"What is autoregressive?\")"
   ]
  },
  {
   "cell_type": "code",
   "execution_count": 14,
   "id": "db9b20eb",
   "metadata": {},
   "outputs": [
    {
     "data": {
      "text/plain": [
       "HumanMessagePromptTemplate(prompt=PromptTemplate(input_variables=['context', 'question'], input_types={}, partial_variables={}, template=\"You are an assistant for question-answering tasks. Use the following pieces of retrieved context to answer the question. If you don't know the answer, just say that you don't know. Use three sentences maximum and keep the answer concise.\\nQuestion: {question} \\nContext: {context} \\nAnswer:\"), additional_kwargs={})"
      ]
     },
     "execution_count": 14,
     "metadata": {},
     "output_type": "execute_result"
    }
   ],
   "source": [
    "from langchain_core.output_parsers import StrOutputParser\n",
    "from langchain import hub\n",
    "\n",
    "prompt = hub.pull(\"rlm/rag-prompt\")\n",
    "prompt.messages[0]"
   ]
  },
  {
   "cell_type": "code",
   "execution_count": 15,
   "id": "d65fc821",
   "metadata": {},
   "outputs": [],
   "source": [
    "from langchain_core.runnables import RunnablePassthrough\n",
    "\n",
    "def format_docs(retriever_docs):\n",
    "    context_text = \"\\n\\n\".join(doc.page_content for doc in retriever_docs)\n",
    "    return context_text"
   ]
  },
  {
   "cell_type": "code",
   "execution_count": 16,
   "id": "12c6bb04",
   "metadata": {},
   "outputs": [],
   "source": [
    "rag_chain = (\n",
    "    {\n",
    "        \"context\": retriever | format_docs,\n",
    "        \"question\": RunnablePassthrough()\n",
    "    }\n",
    "    | prompt\n",
    "    | llm\n",
    "    | StrOutputParser()\n",
    ")"
   ]
  },
  {
   "cell_type": "code",
   "execution_count": 17,
   "id": "88f4bc39",
   "metadata": {},
   "outputs": [
    {
     "data": {
      "image/png": "[encoded data removed]",
      "text/plain": [
       "<IPython.core.display.Image object>"
      ]
     },
     "metadata": {},
     "output_type": "display_data"
    }
   ],
   "source": [
    "from IPython.display import display, Image\n",
    "display(Image(rag_chain.get_graph().draw_mermaid_png()))"
   ]
  },
  {
   "cell_type": "markdown",
   "id": "aff9d3eb",
   "metadata": {},
   "source": [
    "# ***Time to build Workstation***"
   ]
  },
  {
   "cell_type": "code",
   "execution_count": 18,
   "id": "e8deb913",
   "metadata": {},
   "outputs": [],
   "source": [
    "from typing import Literal"
   ]
  },
  {
   "cell_type": "code",
   "execution_count": 19,
   "id": "7932ab06",
   "metadata": {},
   "outputs": [],
   "source": [
    "class SelectPath(BaseModel):\n",
    "    path: Annotated[Literal[\"LLM_CALL\", \"RAG_CALL\", \"INTERNET_SEARCH\"], Field(description=\"Based on the user query select one path only. if user want to know about the Attention all you need paper or any query related to the Transformer then select the Rag call. if user want to know basics question the select llm call and finally user want to know about recent info then select the internet search.\")]\n",
    "    reason: Annotated[str, Field(description=\"Why you select a specific path give reason in one sentence.\")]"
   ]
  },
  {
   "cell_type": "code",
   "execution_count": 20,
   "id": "1d343695",
   "metadata": {},
   "outputs": [],
   "source": [
    "from langchain_core.output_parsers import PydanticOutputParser\n",
    "\n",
    "parser = PydanticOutputParser(pydantic_object=SelectPath)"
   ]
  },
  {
   "cell_type": "code",
   "execution_count": 21,
   "id": "be7bc521",
   "metadata": {},
   "outputs": [],
   "source": [
    "path_prompt = PromptTemplate(\n",
    "    template=\"\"\"\n",
    "    Think step by step on user query. The user query: {question}\\n\\n My vector store is related of Transformer paper as the paper name is *attention all you need* so if you think like user query is related to this paper then select the 'RAG_CALL'. Or user want to know about the latest news or any info the you select the 'INTERNET_SEARCH'. Finally if user want to know basics question such as wants know ML, DL, NLP, or any basics question if you think llm model can capable to give sold and correct answer then select the 'LLM_CALL'. you have to follow this format instruction.\\n\\n{format_instruction}.\n",
    "    \"\"\",\n",
    "    input_variables=[\"question\"],\n",
    "    partial_variables={\n",
    "        \"format_instruction\": parser.get_format_instructions()\n",
    "    }\n",
    ")"
   ]
  },
  {
   "cell_type": "code",
   "execution_count": 22,
   "id": "07233fbb",
   "metadata": {},
   "outputs": [
    {
     "data": {
      "text/plain": [
       "PromptTemplate(input_variables=['question'], input_types={}, partial_variables={'format_instruction': 'The output should be formatted as a JSON instance that conforms to the JSON schema below.\\n\\nAs an example, for the schema {\"properties\": {\"foo\": {\"title\": \"Foo\", \"description\": \"a list of strings\", \"type\": \"array\", \"items\": {\"type\": \"string\"}}}, \"required\": [\"foo\"]}\\nthe object {\"foo\": [\"bar\", \"baz\"]} is a well-formatted instance of the schema. The object {\"properties\": {\"foo\": [\"bar\", \"baz\"]}} is not well-formatted.\\n\\nHere is the output schema:\\n```\\n{\"properties\": {\"path\": {\"description\": \"Based on the user query select one path only. if user want to know about the Attention all you need paper or any query related to the Transformer then select the Rag call. if user want to know basics question the select llm call and finally user want to know about recent info then select the internet search.\", \"enum\": [\"LLM_CALL\", \"RAG_CALL\", \"INTERNET_SEARCH\"], \"title\": \"Path\", \"type\": \"string\"}, \"reason\": {\"description\": \"Why you select a specific path give reason in one sentence.\", \"title\": \"Reason\", \"type\": \"string\"}}, \"required\": [\"path\", \"reason\"]}\\n```'}, template=\"\\n    Think step by step on user query. The user query: {question}\\n\\n My vector store is related of Transformer paper as the paper name is *attention all you need* so if you think like user query is related to this paper then select the 'RAG_CALL'. Or user want to know about the latest news or any info the you select the 'INTERNET_SEARCH'. Finally if user want to know basics question such as wants know ML, DL, NLP, or any basics question if you think llm model can capable to give sold and correct answer then select the 'LLM_CALL'. you have to follow this format instruction.\\n\\n{format_instruction}.\\n    \")"
      ]
     },
     "execution_count": 22,
     "metadata": {},
     "output_type": "execute_result"
    }
   ],
   "source": [
    "path_prompt"
   ]
  },
  {
   "cell_type": "code",
   "execution_count": 23,
   "id": "3a1ccafb",
   "metadata": {},
   "outputs": [],
   "source": [
    "test_chain = path_prompt | llm | parser"
   ]
  },
  {
   "cell_type": "code",
   "execution_count": 24,
   "id": "476141ba",
   "metadata": {},
   "outputs": [
    {
     "data": {
      "text/plain": [
       "SelectPath(path='RAG_CALL', reason=\"The query about positional embeddings directly relates to a concept discussed in the Transformer paper, 'Attention Is All You Need'.\")"
      ]
     },
     "execution_count": 24,
     "metadata": {},
     "output_type": "execute_result"
    }
   ],
   "source": [
    "test_chain.invoke(\"What is positional embeddings?\")"
   ]
  },
  {
   "cell_type": "code",
   "execution_count": 25,
   "id": "0439728f",
   "metadata": {},
   "outputs": [
    {
     "data": {
      "text/plain": [
       "SelectPath(path='INTERNET_SEARCH', reason='The user is asking for current weather information, which requires up-to-date data available through an internet search.')"
      ]
     },
     "execution_count": 25,
     "metadata": {},
     "output_type": "execute_result"
    }
   ],
   "source": [
    "test_chain.invoke(\"What is the weather today in Dhaka?\")"
   ]
  },
  {
   "cell_type": "code",
   "execution_count": 26,
   "id": "e0576b4f",
   "metadata": {},
   "outputs": [
    {
     "data": {
      "text/plain": [
       "('LLM_CALL',\n",
       " 'The user query is a basic question about the necessity of learning Agentic AI, which can be adequately addressed by a large language model.')"
      ]
     },
     "execution_count": 26,
     "metadata": {},
     "output_type": "execute_result"
    }
   ],
   "source": [
    "response = test_chain.invoke(\"Why i need to learn Agentic AI?\")\n",
    "response.path, response.reason"
   ]
  },
  {
   "cell_type": "markdown",
   "id": "0ea3a69f",
   "metadata": {},
   "source": [
    "## **Internet Search Pipeline Setup**"
   ]
  },
  {
   "cell_type": "code",
   "execution_count": 27,
   "id": "7c0b6c17",
   "metadata": {},
   "outputs": [
    {
     "data": {
      "text/plain": [
       "{'query': 'Capital of bangladesh',\n",
       " 'follow_up_questions': None,\n",
       " 'answer': None,\n",
       " 'images': [],\n",
       " 'results': [{'title': 'Dhaka - Simple English Wikipedia, the free encyclopedia',\n",
       "   'url': 'https://simple.wikipedia.org/wiki/Dhaka',\n",
       "   'content': 'Dhaka is the capital and largest city of Bangladesh. Dhaka is Bangladesh’s most populous city and is one of the largest metropolises in South Asia. Dhaka College\") was started in 1841, making it the oldest institution for higher education in the city. Many Muslim families send their children to attend part-time courses or even to pursue full-time religious education alongside other subjects, which is imparted in Bengali and Arabic in schools, colleges and madrasas.Dhaka College is the oldest institution for higher education in the city and among the earliest established in British India, founded in 1841. Since its establishment as the capital city, the population, area, and social and economic diversity of Dhaka have grown tremendously.',\n",
       "   'score': 0.8449346,\n",
       "   'raw_content': None},\n",
       "  {'title': 'Dhaka - Wikipedia',\n",
       "   'url': 'https://en.wikipedia.org/wiki/Dhaka',\n",
       "   'content': '| [1] | | Region | Southern Asia | | Notability | The Representative List of the \"Intangible Cultural Heritage of Humanity\" category | | | | | Dhaka (/ˈ d ɑː k ə/DAH-kə or /ˈ d æ k ə/DAK-ə; Bengali: ঢাকা, romanized:Ḍhākā, pronounced[ˈɖʱaka]ⓘ), formerly known asDacca,[20] is the capital and largest city of Bangladesh. It is one of the largest[a] and most densely populated cities[b] in the world with a density of about 34,000 people per square kilometer within a total area of approximately 300 square kilometers. [25][26] Dhaka is an important cultural, economic, and scientific hub of Eastern South Asia, as well as a major Muslim-majority city. Dhaka is also the largest Bengali-speaking city in the world.',\n",
       "   'score': 0.8021998,\n",
       "   'raw_content': None},\n",
       "  {'title': 'Bangladesh | History, Capital, Map, Flag, Population, Pronunciation ...',\n",
       "   'url': 'https://www.britannica.com/place/Bangladesh',\n",
       "   'content': 'Bangladesh, country of South Asia, located in the delta of the Padma (Ganges [Ganga]) and Jamuna (Brahmaputra) rivers in the northeastern part of the Indian subcontinent. In the northeast and southeast—in the Sylhet and Chittagong Hills areas, respectively—the alluvial plains give place to ridges, running mainly north-south, that form part of the mountains that separate Bangladesh from Myanmar and India. In east-central Bangladesh the Brahmaputra River in its old course (the Old Brahmaputra River) built up the flood basin of the Meghna River, the region that includes the low and fertile Meghna-Sitalakhya Doab (the land area between those rivers). Lying to the south of the Feni River in southeastern Bangladesh is the Chittagong region, which has many hills, hillocks, valleys, and forests and is quite different in aspect from other parts of the country.',\n",
       "   'score': 0.53065056,\n",
       "   'raw_content': None}],\n",
       " 'response_time': 1.06}"
      ]
     },
     "execution_count": 27,
     "metadata": {},
     "output_type": "execute_result"
    }
   ],
   "source": [
    "os.environ[\"TAVILY_API_KEY\"] = os.getenv(\"TAVILY_API_KEY\")\n",
    "\n",
    "tavily_search = TavilySearch(\n",
    "    max_results=3,\n",
    "    topic=\"general\"\n",
    ")\n",
    "\n",
    "tavily_search.invoke(\"Capital of bangladesh\")"
   ]
  },
  {
   "cell_type": "markdown",
   "id": "ae048dbd",
   "metadata": {},
   "source": [
    "### *Create Agent State*"
   ]
  },
  {
   "cell_type": "code",
   "execution_count": 28,
   "id": "98e9c62c",
   "metadata": {},
   "outputs": [],
   "source": [
    "from typing import TypedDict, Sequence\n",
    "from langchain_core.messages import BaseMessage\n",
    "import operator\n",
    "\n",
    "class State(TypedDict):\n",
    "    \"\"\"This is is my graph state where store all conversations.\"\"\"\n",
    "    messages: Annotated[Sequence[BaseMessage], operator.add]"
   ]
  },
  {
   "cell_type": "markdown",
   "id": "a4a16355",
   "metadata": {},
   "source": [
    "## **Start to build the Graph Node**"
   ]
  },
  {
   "cell_type": "code",
   "execution_count": 29,
   "id": "739d1367",
   "metadata": {},
   "outputs": [],
   "source": [
    "## Supervisor node\n",
    "def supervisor(state: State):\n",
    "    \"\"\"This node is responsible for to select the correct path based on the user query.\"\"\"\n",
    "    question = state['messages'][-1]\n",
    "    print(question)\n",
    "    chain = path_prompt | llm | parser\n",
    "    response = chain.invoke(question)\n",
    "    print(response.path, response.reason)\n",
    "    \n",
    "    return {\n",
    "        \"messages\": [response.path]\n",
    "    }"
   ]
  },
  {
   "cell_type": "code",
   "execution_count": 30,
   "id": "6b93c7b6",
   "metadata": {},
   "outputs": [
    {
     "name": "stdout",
     "output_type": "stream",
     "text": [
      "What is key and value vector?\n",
      "RAG_CALL The user query is related to key and value vectors, which are concepts from the Transformer model discussed in the 'Attention Is All You Need' paper.\n"
     ]
    },
    {
     "data": {
      "text/plain": [
       "{'messages': ['RAG_CALL']}"
      ]
     },
     "execution_count": 30,
     "metadata": {},
     "output_type": "execute_result"
    }
   ],
   "source": [
    "state={'messages': [\"What is key and value vector?\"]}\n",
    "supervisor(state)"
   ]
  },
  {
   "cell_type": "code",
   "execution_count": 31,
   "id": "8a31de9c",
   "metadata": {},
   "outputs": [],
   "source": [
    "def router(state: State):\n",
    "    print(\"--Router--\")\n",
    "    last_message = state[\"messages\"][-1]\n",
    "    print(last_message)\n",
    "    \n",
    "    if last_message == \"RAG_CALL\":\n",
    "        return \"RAG_CALL\"\n",
    "    elif last_message == \"LLM_CALL\":\n",
    "        return \"LLM_CALL\"\n",
    "    else:\n",
    "        return \"INTERNET_SEARCH\""
   ]
  },
  {
   "cell_type": "code",
   "execution_count": 32,
   "id": "642d318f",
   "metadata": {},
   "outputs": [],
   "source": [
    "from langchain_core.output_parsers import StrOutputParser"
   ]
  },
  {
   "cell_type": "code",
   "execution_count": 33,
   "id": "b11f259f",
   "metadata": {},
   "outputs": [],
   "source": [
    "def llm_call(state: State):\n",
    "    print(\"--LLM Call--\")\n",
    "    question = state['messages'][0]\n",
    "    prompt = PromptTemplate(\n",
    "        template=\"\"\"\n",
    "        You are a helpful ai assistant. Answer the question based on you capability. if you think you do not know about the question do not give the answer just simply say i do not know the proper answer. Though do not give any hypothetical answer or hallucination response or do not predict the answer. If you are confident enough then provide the answer properly.\\n\n",
    "        the user query is: {question}\n",
    "        \"\"\",\n",
    "        input_variables=[\"question\"]\n",
    "    )\n",
    "    chain = prompt | llm | StrOutputParser()\n",
    "    response = chain.invoke(\n",
    "        {\n",
    "            \"question\": question\n",
    "        }\n",
    "    )\n",
    "    print(response)\n",
    "    return {\n",
    "        \"messages\": [response]\n",
    "    }\n",
    "    "
   ]
  },
  {
   "cell_type": "code",
   "execution_count": 34,
   "id": "42f4f4a6",
   "metadata": {},
   "outputs": [],
   "source": [
    "def internet_search(state: State):\n",
    "    print(\"--Internet Search--\")\n",
    "    question = state['messages'][0]\n",
    "    web_search_content = tavily_search.invoke(question)\n",
    "    prompt = PromptTemplate(\n",
    "        template=\"\"\"\n",
    "        You are a helpful ai assistant who can give answer of the user query based on the web search content. First read the user query and check the web_search_content. If you think web content is not enough for to give the answer of the user query then simply say. No have enough context to give the answer. And below the user query and web_search_content.\\n\\n\n",
    "        the user query is: {question}\\n\\n\n",
    "        the web_search_content: {web_search_content}\\n\n",
    "        \"\"\",\n",
    "        input_variables=[\"question\", \"web_search_content\"]\n",
    "    )\n",
    "    chain = prompt | llm | StrOutputParser()\n",
    "    response = chain.invoke(\n",
    "        {\n",
    "            \"question\": question,\n",
    "            \"web_search_content\": web_search_content\n",
    "        }\n",
    "    )\n",
    "    return {\n",
    "        \"messages\": [response]\n",
    "    }"
   ]
  },
  {
   "cell_type": "code",
   "execution_count": 54,
   "id": "17ac9855",
   "metadata": {},
   "outputs": [],
   "source": [
    "from langchain import hub"
   ]
  },
  {
   "cell_type": "code",
   "execution_count": 48,
   "id": "da3b935b",
   "metadata": {},
   "outputs": [
    {
     "data": {
      "text/plain": [
       "ChatPromptTemplate(input_variables=['context', 'question'], input_types={}, partial_variables={}, metadata={'lc_hub_owner': 'rlm', 'lc_hub_repo': 'rag-prompt', 'lc_hub_commit_hash': '50442af133e61576e74536c6556cefe1fac147cad032f4377b60c436e6cdcb6e'}, messages=[HumanMessagePromptTemplate(prompt=PromptTemplate(input_variables=['context', 'question'], input_types={}, partial_variables={}, template=\"You are an assistant for question-answering tasks. Use the following pieces of retrieved context to answer the question. If you don't know the answer, just say that you don't know. Use three sentences maximum and keep the answer concise.\\nQuestion: {question} \\nContext: {context} \\nAnswer:\"), additional_kwargs={})])"
      ]
     },
     "execution_count": 48,
     "metadata": {},
     "output_type": "execute_result"
    }
   ],
   "source": [
    "prompt = hub.pull(\"rlm/rag-prompt\")\n",
    "prompt"
   ]
  },
  {
   "cell_type": "code",
   "execution_count": 58,
   "id": "5aca5322",
   "metadata": {},
   "outputs": [],
   "source": [
    "def rag_call(state: State):\n",
    "    print(\"--Rag call--\")\n",
    "    question = state['messages'][0]\n",
    "    print(question)\n",
    "    prompt = hub.pull(\"rlm/rag-prompt\")\n",
    "    \n",
    "    print(\"im hare-1\")\n",
    "    rag_chain = (\n",
    "        {\n",
    "            \"context\": retriever | format_docs,\n",
    "            \"question\": RunnablePassthrough()\n",
    "        }\n",
    "        | prompt\n",
    "        | llm\n",
    "        | StrOutputParser()\n",
    "    )\n",
    "    print(\"im hare-2\")\n",
    "    response = rag_chain.invoke(question)\n",
    "    print(\"rag-response\", response)\n",
    "    \n",
    "    return {\n",
    "        \"messages\": [response]\n",
    "    }\n",
    "    "
   ]
  },
  {
   "cell_type": "markdown",
   "id": "53f2fafa",
   "metadata": {},
   "source": [
    "## **Validation Node**"
   ]
  },
  {
   "cell_type": "code",
   "execution_count": 36,
   "id": "79b26cbd",
   "metadata": {},
   "outputs": [],
   "source": [
    "class validationOutput(BaseModel):\n",
    "    validation_response: Annotated[Literal[\"yes\", \"no\"], Field(description=\"analysis the user question and the output. If you think the output is correct based on the question then say 'yes' otherwise say 'no' if the answer is not correct based on the user question.\")]"
   ]
  },
  {
   "cell_type": "code",
   "execution_count": 37,
   "id": "6b7752d5",
   "metadata": {},
   "outputs": [],
   "source": [
    "validate_parser = PydanticOutputParser(pydantic_object=validationOutput)"
   ]
  },
  {
   "cell_type": "code",
   "execution_count": 67,
   "id": "4482a63d",
   "metadata": {},
   "outputs": [],
   "source": [
    "def validation_node(state: State):\n",
    "    print(\"---validation---\")\n",
    "    question = state['messages'][0]\n",
    "    answer = state['messages'][-1]\n",
    "    \n",
    "    print(question, answer)\n",
    "    validation_prompt = PromptTemplate(\n",
    "        template=\"\"\"Think you are evaluator, your task is validate the output of the user question. Example if the answer is correct based on the user question then simple say 'yes', otherwise say 'no' is the answer is not relevant to the question. Think very carefully to validation time. Below the user question and the answer of the question.\n",
    "        the user question is : {question}\\n\\n and the output answer of the question is: {answer}.\\n\\n Most important is must be follow the output format instruction: {format_instruction}\"\"\",\n",
    "        input_variables=[\"question\", \"answer\"],\n",
    "        partial_variables={\n",
    "            \"format_instruction\": validate_parser.get_format_instructions()\n",
    "        }\n",
    "    )\n",
    "    \n",
    "    validation_chain = validation_prompt | llm | validate_parser\n",
    "    \n",
    "    result = validation_chain.invoke(\n",
    "        {\n",
    "            \"question\": question,\n",
    "            \"answer\": answer\n",
    "        }\n",
    "    )\n",
    "    print(\"im hare 3\")\n",
    "    print(result.validation_response)\n",
    "    return {\n",
    "        \"messages\": [result.validation_response]\n",
    "    }"
   ]
  },
  {
   "cell_type": "code",
   "execution_count": 41,
   "id": "42cb64c6",
   "metadata": {},
   "outputs": [],
   "source": [
    "class RewriteUserQuestion(BaseModel):\n",
    "    rewrite_question: Annotated[str, Field(description=\"Rewrite the user query for better output generation. question should be in one sentence.\")]"
   ]
  },
  {
   "cell_type": "code",
   "execution_count": 42,
   "id": "e7ed2661",
   "metadata": {},
   "outputs": [],
   "source": [
    "rewrite_parser = PydanticOutputParser(pydantic_object=RewriteUserQuestion)"
   ]
  },
  {
   "cell_type": "code",
   "execution_count": 43,
   "id": "4c894672",
   "metadata": {},
   "outputs": [],
   "source": [
    "def rewrite_query(state: State):\n",
    "    question = state['messages'][0]\n",
    "    \n",
    "    rewrite_prompt = PromptTemplate(\n",
    "        \"\"\"You are a helpful ai assistant and your task is rewrite the user input query for better response generation. Example like if user query is bad then occurred problem such as data extraction from vector store or internet search. So rewrite the query for best output generation.\\n\n",
    "        This is user question: {question}. and must be follow the format instruction to produce the output. The format instruction is: {format_instruction}\"\"\",\n",
    "        input_variables=[\"question\"],\n",
    "        partial_variables={\n",
    "            \"format_instruction\": rewrite_parser.get_format_instructions()\n",
    "        }\n",
    "    )\n",
    "    \n",
    "    rewrite_chain = rewrite_prompt | llm | rewrite_parser\n",
    "    new_question = rewrite_chain.invoke(\n",
    "        {\n",
    "            \"question\": question\n",
    "        }\n",
    "    )\n",
    "    state[\"messages\"][0] = new_question.rewrite_question\n",
    "    print(state[\"messages\"][0])\n",
    "    \n",
    "    "
   ]
  },
  {
   "cell_type": "code",
   "execution_count": 44,
   "id": "a8a25015",
   "metadata": {},
   "outputs": [],
   "source": [
    "from langgraph.graph import END\n",
    "\n",
    "def validation_router(state: State):\n",
    "    validation_result = state['messages'][-1]\n",
    "    \n",
    "    if validation_result == \"yes\":\n",
    "        return \"PASS\"\n",
    "    else:\n",
    "        return \"FAILED\""
   ]
  },
  {
   "cell_type": "markdown",
   "id": "dd32270d",
   "metadata": {},
   "source": [
    "## Build the Graph"
   ]
  },
  {
   "cell_type": "code",
   "execution_count": 73,
   "id": "04e9a5eb",
   "metadata": {},
   "outputs": [
    {
     "data": {
      "image/png": "[encoded data removed]",
      "text/plain": [
       "<IPython.core.display.Image object>"
      ]
     },
     "metadata": {},
     "output_type": "display_data"
    }
   ],
   "source": [
    "from langgraph.graph import START, StateGraph\n",
    "from IPython.display import display, Image\n",
    "\n",
    "workflow = StateGraph(State)\n",
    "\n",
    "## Node\n",
    "workflow.add_node(\"supervisor\", supervisor)\n",
    "workflow.add_node(\"LLM\", llm_call)\n",
    "workflow.add_node(\"RAG\", rag_call)\n",
    "workflow.add_node(\"INTERNET\", internet_search)\n",
    "workflow.add_node(\"VALIDATION\", validation_node)\n",
    "workflow.add_node(\"REwrite_QUERY\", rewrite_query)\n",
    "\n",
    "## Edges\n",
    "workflow.add_edge(START, \"supervisor\")\n",
    "workflow.add_conditional_edges(\n",
    "    \"supervisor\",\n",
    "    router,\n",
    "    {\n",
    "        \"INTERNET_SEARCH\": \"INTERNET\",\n",
    "        \"LLM_CALL\": \"LLM\",\n",
    "        \"RAG_CALL\": \"RAG\"\n",
    "    }\n",
    ")\n",
    "workflow.add_edge(\"LLM\", \"VALIDATION\")\n",
    "workflow.add_edge(\"RAG\", \"VALIDATION\")\n",
    "workflow.add_edge(\"INTERNET\", \"VALIDATION\")\n",
    "workflow.add_conditional_edges(\n",
    "    \"VALIDATION\",\n",
    "    validation_router,\n",
    "    {\n",
    "        \"PASS\": END,\n",
    "        \"FAILED\": \"REwrite_QUERY\"\n",
    "    }\n",
    ")\n",
    "workflow.add_edge(\"REwrite_QUERY\", \"supervisor\")\n",
    "\n",
    "graph = workflow.compile()\n",
    "\n",
    "display(Image(graph.get_graph().draw_mermaid_png()))"
   ]
  },
  {
   "cell_type": "markdown",
   "id": "43403113",
   "metadata": {},
   "source": [
    "# ***Output Testing***"
   ]
  },
  {
   "cell_type": "code",
   "execution_count": 74,
   "id": "7262cc4e",
   "metadata": {},
   "outputs": [
    {
     "name": "stdout",
     "output_type": "stream",
     "text": [
      "What is key, query, and value vector?\n",
      "RAG_CALL The user query directly relates to concepts within the Transformer model discussed in the 'Attention Is All You Need' paper.\n",
      "--Router--\n",
      "RAG_CALL\n",
      "--Rag call--\n",
      "What is key, query, and value vector?\n",
      "im hare-1\n",
      "im hare-2\n",
      "rag-response The query, key, and value vectors are vectors used in an attention function. Specifically, the query vector is used to compute weights on the value vectors based on their similarity to the key vectors. The key, query, and value vectors have dimensions dk, dk, and dv respectively.\n",
      "---validation---\n",
      "What is key, query, and value vector? The query, key, and value vectors are vectors used in an attention function. Specifically, the query vector is used to compute weights on the value vectors based on their similarity to the key vectors. The key, query, and value vectors have dimensions dk, dk, and dv respectively.\n",
      "im hare 3\n",
      "yes\n"
     ]
    },
    {
     "data": {
      "text/plain": [
       "{'messages': ['What is key, query, and value vector?',\n",
       "  'RAG_CALL',\n",
       "  'The query, key, and value vectors are vectors used in an attention function. Specifically, the query vector is used to compute weights on the value vectors based on their similarity to the key vectors. The key, query, and value vectors have dimensions dk, dk, and dv respectively.',\n",
       "  'yes']}"
      ]
     },
     "execution_count": 74,
     "metadata": {},
     "output_type": "execute_result"
    }
   ],
   "source": [
    "graph.invoke(\n",
    "    {\n",
    "        \"messages\": [\"What is key, query, and value vector?\"]\n",
    "    }\n",
    ")"
   ]
  },
  {
   "cell_type": "code",
   "execution_count": 71,
   "id": "5ef1f7fc",
   "metadata": {},
   "outputs": [
    {
     "name": "stdout",
     "output_type": "stream",
     "text": [
      "What is the current weather of Dhaka?\n",
      "INTERNET_SEARCH The user query is about obtaining current weather information, which requires recent data available on the internet.\n",
      "--Router--\n",
      "INTERNET_SEARCH\n",
      "--Internet Search--\n",
      "---validation---\n",
      "What is the current weather of Dhaka? The current weather in Dhaka is:\n",
      "\n",
      "* Temperature: 32.9°C (91.2°F)\n",
      "* Condition: Patchy rain nearby\n",
      "* Wind: 8.7 mph (14.0 kph) from the South (S)\n",
      "* Humidity: 60%\n",
      "* Cloud cover: 60%\n",
      "* Visibility: 10.0 km (6.0 miles)\n",
      "\n",
      "According to the weatherapi.com, the current weather in Dhaka is patchy rain nearby with a temperature of 32.9°C (91.2°F). \n",
      "\n",
      "You can also check other weather websites like People's Weather or World-Weather.info for more updates.\n",
      "\n",
      "Is there anything else I can help you with?\n",
      "im hare 3\n",
      "yes\n"
     ]
    },
    {
     "data": {
      "text/plain": [
       "{'messages': ['What is the current weather of Dhaka?',\n",
       "  'INTERNET_SEARCH',\n",
       "  \"The current weather in Dhaka is:\\n\\n* Temperature: 32.9°C (91.2°F)\\n* Condition: Patchy rain nearby\\n* Wind: 8.7 mph (14.0 kph) from the South (S)\\n* Humidity: 60%\\n* Cloud cover: 60%\\n* Visibility: 10.0 km (6.0 miles)\\n\\nAccording to the weatherapi.com, the current weather in Dhaka is patchy rain nearby with a temperature of 32.9°C (91.2°F). \\n\\nYou can also check other weather websites like People's Weather or World-Weather.info for more updates.\\n\\nIs there anything else I can help you with?\",\n",
       "  'yes']}"
      ]
     },
     "execution_count": 71,
     "metadata": {},
     "output_type": "execute_result"
    }
   ],
   "source": [
    "graph.invoke(\n",
    "    {\n",
    "        \"messages\": [\"What is the current weather of Dhaka?\"]\n",
    "    }\n",
    ")"
   ]
  },
  {
   "cell_type": "code",
   "execution_count": 72,
   "id": "227fb38f",
   "metadata": {},
   "outputs": [
    {
     "name": "stdout",
     "output_type": "stream",
     "text": [
      "What i should learn Agentic AI?\n",
      "LLM_CALL The user query is about learning Agentic AI, a topic within AI that likely requires a foundational understanding of AI, ML, or DL, which an LLM can provide guidance on.\n",
      "--Router--\n",
      "LLM_CALL\n",
      "--LLM Call--\n",
      "To learn about Agentic AI, here are some key areas and concepts you might want to explore:\n",
      "\n",
      "1. **Foundations of AI**: Before diving into Agentic AI, ensure you have a solid understanding of basic AI concepts, including machine learning, deep learning, and their applications.\n",
      "\n",
      "2. **Autonomy and Agency in AI**: Understand what it means for an AI system to be \"agentic.\" This involves learning about autonomy, decision-making, and how AI systems can act independently to achieve goals.\n",
      "\n",
      "3. **Multi-Agent Systems (MAS)**: Agentic AI often involves systems where multiple AI agents interact. Learning about MAS can provide insights into how these agents can work together, negotiate, or compete.\n",
      "\n",
      "4. **Cognitive Architectures**: These are software frameworks that provide the structure for modeling the mind and simulating human cognition and reasoning. They're crucial for creating agentic behaviors in AI.\n",
      "\n",
      "5. **Reinforcement Learning (RL)**: RL is a type of machine learning where an agent learns to make decisions by taking actions in an environment to achieve a goal. It's fundamental for creating autonomous agents.\n",
      "\n",
      "6. **Planning and Decision-Making**: Learning about planning algorithms and decision-making processes in AI can help you understand how agentic AI systems set goals and achieve them.\n",
      "\n",
      "7. **Ethics and Safety in AI**: As AI systems become more autonomous, ethical and safety considerations become critical. Understanding these aspects is essential for developing responsible agentic AI.\n",
      "\n",
      "8. **Human-AI Interaction**: Since agentic AI systems may interact closely with humans, learning about how to design these interactions effectively and safely is important.\n",
      "\n",
      "9. **Specific Tools and Technologies**: Familiarize yourself with programming languages and frameworks commonly used in AI development, such as Python, TensorFlow, PyTorch, and specific libraries or platforms that support agentic AI development.\n",
      "\n",
      "10. **Current Research and Developments**: The field of AI is rapidly evolving. Keeping up with the latest research, especially in areas directly related to agentic AI, can provide insights into new techniques and applications.\n",
      "\n",
      "To get started, you might consider:\n",
      "- Online courses and tutorials on AI, machine learning, and related topics.\n",
      "- Books on AI, autonomy, and cognitive architectures.\n",
      "- Research papers and articles on agentic AI and related fields.\n",
      "- Joining forums, communities, or social media groups focused on AI development.\n",
      "\n",
      "If you're looking for specific courses or resources, I'd recommend checking out platforms like Coursera, edX, and Udemy for courses on AI and machine learning. Additionally, exploring academic journals and conferences related to AI can provide cutting-edge insights into agentic AI.\n",
      "---validation---\n",
      "What i should learn Agentic AI? To learn about Agentic AI, here are some key areas and concepts you might want to explore:\n",
      "\n",
      "1. **Foundations of AI**: Before diving into Agentic AI, ensure you have a solid understanding of basic AI concepts, including machine learning, deep learning, and their applications.\n",
      "\n",
      "2. **Autonomy and Agency in AI**: Understand what it means for an AI system to be \"agentic.\" This involves learning about autonomy, decision-making, and how AI systems can act independently to achieve goals.\n",
      "\n",
      "3. **Multi-Agent Systems (MAS)**: Agentic AI often involves systems where multiple AI agents interact. Learning about MAS can provide insights into how these agents can work together, negotiate, or compete.\n",
      "\n",
      "4. **Cognitive Architectures**: These are software frameworks that provide the structure for modeling the mind and simulating human cognition and reasoning. They're crucial for creating agentic behaviors in AI.\n",
      "\n",
      "5. **Reinforcement Learning (RL)**: RL is a type of machine learning where an agent learns to make decisions by taking actions in an environment to achieve a goal. It's fundamental for creating autonomous agents.\n",
      "\n",
      "6. **Planning and Decision-Making**: Learning about planning algorithms and decision-making processes in AI can help you understand how agentic AI systems set goals and achieve them.\n",
      "\n",
      "7. **Ethics and Safety in AI**: As AI systems become more autonomous, ethical and safety considerations become critical. Understanding these aspects is essential for developing responsible agentic AI.\n",
      "\n",
      "8. **Human-AI Interaction**: Since agentic AI systems may interact closely with humans, learning about how to design these interactions effectively and safely is important.\n",
      "\n",
      "9. **Specific Tools and Technologies**: Familiarize yourself with programming languages and frameworks commonly used in AI development, such as Python, TensorFlow, PyTorch, and specific libraries or platforms that support agentic AI development.\n",
      "\n",
      "10. **Current Research and Developments**: The field of AI is rapidly evolving. Keeping up with the latest research, especially in areas directly related to agentic AI, can provide insights into new techniques and applications.\n",
      "\n",
      "To get started, you might consider:\n",
      "- Online courses and tutorials on AI, machine learning, and related topics.\n",
      "- Books on AI, autonomy, and cognitive architectures.\n",
      "- Research papers and articles on agentic AI and related fields.\n",
      "- Joining forums, communities, or social media groups focused on AI development.\n",
      "\n",
      "If you're looking for specific courses or resources, I'd recommend checking out platforms like Coursera, edX, and Udemy for courses on AI and machine learning. Additionally, exploring academic journals and conferences related to AI can provide cutting-edge insights into agentic AI.\n",
      "im hare 3\n",
      "yes\n"
     ]
    },
    {
     "data": {
      "text/plain": [
       "{'messages': ['What i should learn Agentic AI?',\n",
       "  'LLM_CALL',\n",
       "  'To learn about Agentic AI, here are some key areas and concepts you might want to explore:\\n\\n1. **Foundations of AI**: Before diving into Agentic AI, ensure you have a solid understanding of basic AI concepts, including machine learning, deep learning, and their applications.\\n\\n2. **Autonomy and Agency in AI**: Understand what it means for an AI system to be \"agentic.\" This involves learning about autonomy, decision-making, and how AI systems can act independently to achieve goals.\\n\\n3. **Multi-Agent Systems (MAS)**: Agentic AI often involves systems where multiple AI agents interact. Learning about MAS can provide insights into how these agents can work together, negotiate, or compete.\\n\\n4. **Cognitive Architectures**: These are software frameworks that provide the structure for modeling the mind and simulating human cognition and reasoning. They\\'re crucial for creating agentic behaviors in AI.\\n\\n5. **Reinforcement Learning (RL)**: RL is a type of machine learning where an agent learns to make decisions by taking actions in an environment to achieve a goal. It\\'s fundamental for creating autonomous agents.\\n\\n6. **Planning and Decision-Making**: Learning about planning algorithms and decision-making processes in AI can help you understand how agentic AI systems set goals and achieve them.\\n\\n7. **Ethics and Safety in AI**: As AI systems become more autonomous, ethical and safety considerations become critical. Understanding these aspects is essential for developing responsible agentic AI.\\n\\n8. **Human-AI Interaction**: Since agentic AI systems may interact closely with humans, learning about how to design these interactions effectively and safely is important.\\n\\n9. **Specific Tools and Technologies**: Familiarize yourself with programming languages and frameworks commonly used in AI development, such as Python, TensorFlow, PyTorch, and specific libraries or platforms that support agentic AI development.\\n\\n10. **Current Research and Developments**: The field of AI is rapidly evolving. Keeping up with the latest research, especially in areas directly related to agentic AI, can provide insights into new techniques and applications.\\n\\nTo get started, you might consider:\\n- Online courses and tutorials on AI, machine learning, and related topics.\\n- Books on AI, autonomy, and cognitive architectures.\\n- Research papers and articles on agentic AI and related fields.\\n- Joining forums, communities, or social media groups focused on AI development.\\n\\nIf you\\'re looking for specific courses or resources, I\\'d recommend checking out platforms like Coursera, edX, and Udemy for courses on AI and machine learning. Additionally, exploring academic journals and conferences related to AI can provide cutting-edge insights into agentic AI.',\n",
       "  'yes']}"
      ]
     },
     "execution_count": 72,
     "metadata": {},
     "output_type": "execute_result"
    }
   ],
   "source": [
    "graph.invoke(\n",
    "    {\n",
    "        \"messages\": [\"What i should learn Agentic AI?\"]\n",
    "    }\n",
    ")"
   ]
  },
  {
   "cell_type": "code",
   "execution_count": null,
   "id": "22308442",
   "metadata": {},
   "outputs": [],
   "source": []
  }
 ],
 "metadata": {
  "kernelspec": {
   "display_name": "ailb",
   "language": "python",
   "name": "python3"
  },
  "language_info": {
   "codemirror_mode": {
    "name": "ipython",
    "version": 3
   },
   "file_extension": ".py",
   "mimetype": "text/x-python",
   "name": "python",
   "nbconvert_exporter": "python",
   "pygments_lexer": "ipython3",
   "version": "3.10.16"
  }
 },
 "nbformat": 4,
 "nbformat_minor": 5
}

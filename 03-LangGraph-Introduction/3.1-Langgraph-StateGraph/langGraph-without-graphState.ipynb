{
 "cells": [
  {
   "cell_type": "markdown",
   "id": "ce507650",
   "metadata": {},
   "source": [
    "## **Define Simple Agent State**"
   ]
  },
  {
   "cell_type": "code",
   "execution_count": 56,
   "id": "5f6c84fe",
   "metadata": {},
   "outputs": [
    {
     "data": {
      "text/plain": [
       "{}"
      ]
     },
     "execution_count": 56,
     "metadata": {},
     "output_type": "execute_result"
    }
   ],
   "source": [
    "AgentState = {}\n",
    "AgentState"
   ]
  },
  {
   "cell_type": "code",
   "execution_count": 57,
   "id": "e74ac4a2",
   "metadata": {},
   "outputs": [],
   "source": [
    "AgentState[\"messages\"] = []"
   ]
  },
  {
   "cell_type": "code",
   "execution_count": 58,
   "id": "6190a25d",
   "metadata": {},
   "outputs": [
    {
     "data": {
      "text/plain": [
       "{'messages': []}"
      ]
     },
     "execution_count": 58,
     "metadata": {},
     "output_type": "execute_result"
    }
   ],
   "source": [
    "AgentState"
   ]
  },
  {
   "cell_type": "code",
   "execution_count": 59,
   "id": "c69d3b16",
   "metadata": {},
   "outputs": [
    {
     "data": {
      "text/plain": [
       "{'messages': [\"I'm Al amin\"]}"
      ]
     },
     "execution_count": 59,
     "metadata": {},
     "output_type": "execute_result"
    }
   ],
   "source": [
    "AgentState[\"messages\"].append(\"I'm Al amin\")\n",
    "AgentState"
   ]
  },
  {
   "cell_type": "code",
   "execution_count": 60,
   "id": "a98bd0e5",
   "metadata": {},
   "outputs": [],
   "source": [
    "AgentState[\"messages\"].append(\"Nice to meet you!\")"
   ]
  },
  {
   "cell_type": "code",
   "execution_count": 61,
   "id": "8a688fee",
   "metadata": {},
   "outputs": [
    {
     "data": {
      "text/plain": [
       "{'messages': [\"I'm Al amin\", 'Nice to meet you!']}"
      ]
     },
     "execution_count": 61,
     "metadata": {},
     "output_type": "execute_result"
    }
   ],
   "source": [
    "AgentState"
   ]
  },
  {
   "cell_type": "markdown",
   "id": "99f41747",
   "metadata": {},
   "source": [
    "## AgentState"
   ]
  },
  {
   "cell_type": "code",
   "execution_count": 62,
   "id": "5bcfdbd6",
   "metadata": {},
   "outputs": [],
   "source": [
    "from typing import TypedDict, Sequence, Annotated\n",
    "from langchain_core.messages import BaseMessage\n",
    "import operator\n",
    "\n",
    "class AgentState(TypedDict):\n",
    "    \"\"\"This is is my graph state where store all conversations.\"\"\"\n",
    "    messages: Annotated[Sequence[BaseMessage], operator.add]"
   ]
  },
  {
   "cell_type": "markdown",
   "id": "61290f9a",
   "metadata": {},
   "source": [
    "## Define Node"
   ]
  },
  {
   "cell_type": "code",
   "execution_count": 63,
   "id": "1c7e0174",
   "metadata": {},
   "outputs": [],
   "source": [
    "def node_1(state: AgentState):\n",
    "    print(\"---Node 1---\")\n",
    "    \n",
    "    question = state[\"messages\"][-1]\n",
    "    \n",
    "    return {\n",
    "        \"messages\": [question + \"This if from node 1\"]\n",
    "    }\n",
    "    \n",
    "    "
   ]
  },
  {
   "cell_type": "code",
   "execution_count": 64,
   "id": "7af8dc43",
   "metadata": {},
   "outputs": [],
   "source": [
    "def node_2(state: AgentState):\n",
    "    print(\"--Node 2--\")\n",
    "    \n",
    "    question = state[\"messages\"][0]\n",
    "    \n",
    "    return {\n",
    "        \"messages\": [question + \"This if from node 2\"]\n",
    "    }\n",
    "    "
   ]
  },
  {
   "cell_type": "code",
   "execution_count": 65,
   "id": "56ac82b2",
   "metadata": {},
   "outputs": [],
   "source": [
    "def node_3(state: AgentState):\n",
    "    print(\"--Node 3--\")\n",
    "    question = state[\"messages\"][0]\n",
    "    \n",
    "    return {\n",
    "        \"messages\": [question + \"This if from node 3\"]\n",
    "    }"
   ]
  },
  {
   "cell_type": "code",
   "execution_count": 66,
   "id": "405ab552",
   "metadata": {},
   "outputs": [],
   "source": [
    "import random\n",
    "\n",
    "def router(state: AgentState):\n",
    "    print(\"---Router---\")\n",
    "    \n",
    "    number = random.random()\n",
    "    \n",
    "    if number > 0.5:\n",
    "        return \"RAG_CALL\"\n",
    "    else:\n",
    "        return \"LLM_CALL\"\n",
    "    \n",
    "    \n",
    "    "
   ]
  },
  {
   "cell_type": "code",
   "execution_count": 67,
   "id": "fcfc999f",
   "metadata": {},
   "outputs": [
    {
     "data": {
      "image/png": "[encoded data removed]",
      "text/plain": [
       "<IPython.core.display.Image object>"
      ]
     },
     "metadata": {},
     "output_type": "display_data"
    }
   ],
   "source": [
    "from langgraph.graph import StateGraph, START, END\n",
    "from IPython.display import display, Image\n",
    "\n",
    "workflow = StateGraph(AgentState)\n",
    "\n",
    "workflow.add_node(\"Supervisor\", node_1)\n",
    "workflow.add_node(\"RAG\", node_2)\n",
    "workflow.add_node(\"LLM\", node_3)\n",
    "\n",
    "workflow.add_edge(START, \"Supervisor\")\n",
    "workflow.add_conditional_edges(\n",
    "    \"Supervisor\",\n",
    "    router,\n",
    "    {\n",
    "        \"RAG_CALL\": \"RAG\",\n",
    "        \"LLM_CALL\": \"LLM\"\n",
    "    }\n",
    ")\n",
    "workflow.add_edge(\"RAG\", END)\n",
    "workflow.add_edge(\"LLM\", END)\n",
    "\n",
    "graph = workflow.compile()\n",
    "\n",
    "display(Image(graph.get_graph().draw_mermaid_png()))"
   ]
  },
  {
   "cell_type": "code",
   "execution_count": 69,
   "id": "936c5d00",
   "metadata": {},
   "outputs": [
    {
     "name": "stdout",
     "output_type": "stream",
     "text": [
      "---Node 1---\n",
      "---Router---\n",
      "--Node 2--\n"
     ]
    },
    {
     "data": {
      "text/plain": [
       "{'messages': ['hello, how are you!!',\n",
       "  'hello, how are you!!This if from node 1',\n",
       "  'hello, how are you!!This if from node 2']}"
      ]
     },
     "execution_count": 69,
     "metadata": {},
     "output_type": "execute_result"
    }
   ],
   "source": [
    "graph.invoke(\n",
    "    {\n",
    "        \"messages\": [\"hello, how are you!!\"]\n",
    "    }\n",
    ")"
   ]
  },
  {
   "cell_type": "code",
   "execution_count": null,
   "id": "87ee7655",
   "metadata": {},
   "outputs": [],
   "source": []
  }
 ],
 "metadata": {
  "kernelspec": {
   "display_name": "Python 3",
   "language": "python",
   "name": "python3"
  },
  "language_info": {
   "codemirror_mode": {
    "name": "ipython",
    "version": 3
   },
   "file_extension": ".py",
   "mimetype": "text/x-python",
   "name": "python",
   "nbconvert_exporter": "python",
   "pygments_lexer": "ipython3",
   "version": "3.12.0"
  }
 },
 "nbformat": 4,
 "nbformat_minor": 5
}

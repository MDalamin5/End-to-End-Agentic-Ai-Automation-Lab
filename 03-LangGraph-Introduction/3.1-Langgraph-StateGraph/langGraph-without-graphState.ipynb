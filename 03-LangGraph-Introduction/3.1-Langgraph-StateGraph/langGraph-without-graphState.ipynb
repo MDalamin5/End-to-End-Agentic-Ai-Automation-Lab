{
 "cells": [
  {
   "cell_type": "markdown",
   "id": "ce507650",
   "metadata": {},
   "source": [
    "## **Define Simple Agent State**"
   ]
  },
  {
   "cell_type": "code",
   "execution_count": 1,
   "id": "5f6c84fe",
   "metadata": {},
   "outputs": [
    {
     "data": {
      "text/plain": [
       "{}"
      ]
     },
     "execution_count": 1,
     "metadata": {},
     "output_type": "execute_result"
    }
   ],
   "source": [
    "AgentState = {}\n",
    "AgentState"
   ]
  },
  {
   "cell_type": "code",
   "execution_count": 2,
   "id": "e74ac4a2",
   "metadata": {},
   "outputs": [],
   "source": [
    "AgentState[\"messages\"] = []"
   ]
  },
  {
   "cell_type": "code",
   "execution_count": 3,
   "id": "6190a25d",
   "metadata": {},
   "outputs": [
    {
     "data": {
      "text/plain": [
       "{'messages': []}"
      ]
     },
     "execution_count": 3,
     "metadata": {},
     "output_type": "execute_result"
    }
   ],
   "source": [
    "AgentState"
   ]
  },
  {
   "cell_type": "code",
   "execution_count": 4,
   "id": "c69d3b16",
   "metadata": {},
   "outputs": [
    {
     "data": {
      "text/plain": [
       "{'messages': [\"I'm Al amin\"]}"
      ]
     },
     "execution_count": 4,
     "metadata": {},
     "output_type": "execute_result"
    }
   ],
   "source": [
    "AgentState[\"messages\"].append(\"I'm Al amin\")\n",
    "AgentState"
   ]
  },
  {
   "cell_type": "code",
   "execution_count": 5,
   "id": "a98bd0e5",
   "metadata": {},
   "outputs": [],
   "source": [
    "AgentState[\"messages\"].append(\"Nice to meet you!\")"
   ]
  },
  {
   "cell_type": "code",
   "execution_count": 6,
   "id": "8a688fee",
   "metadata": {},
   "outputs": [
    {
     "data": {
      "text/plain": [
       "{'messages': [\"I'm Al amin\", 'Nice to meet you!']}"
      ]
     },
     "execution_count": 6,
     "metadata": {},
     "output_type": "execute_result"
    }
   ],
   "source": [
    "AgentState"
   ]
  },
  {
   "cell_type": "markdown",
   "id": "99f41747",
   "metadata": {},
   "source": [
    "## AgentState"
   ]
  },
  {
   "cell_type": "code",
   "execution_count": 7,
   "id": "5bcfdbd6",
   "metadata": {},
   "outputs": [],
   "source": [
    "from typing import TypedDict, Sequence, Annotated\n",
    "from langchain_core.messages import BaseMessage\n",
    "import operator\n",
    "\n",
    "class AgentState(TypedDict):\n",
    "    messages: Annotated[Sequence[BaseMessage], operator.add] ## annotated means annotated the particular details"
   ]
  },
  {
   "cell_type": "code",
   "execution_count": null,
   "id": "1c7e0174",
   "metadata": {},
   "outputs": [],
   "source": []
  }
 ],
 "metadata": {
  "kernelspec": {
   "display_name": "Python 3",
   "language": "python",
   "name": "python3"
  },
  "language_info": {
   "codemirror_mode": {
    "name": "ipython",
    "version": 3
   },
   "file_extension": ".py",
   "mimetype": "text/x-python",
   "name": "python",
   "nbconvert_exporter": "python",
   "pygments_lexer": "ipython3",
   "version": "3.12.0"
  }
 },
 "nbformat": 4,
 "nbformat_minor": 5
}

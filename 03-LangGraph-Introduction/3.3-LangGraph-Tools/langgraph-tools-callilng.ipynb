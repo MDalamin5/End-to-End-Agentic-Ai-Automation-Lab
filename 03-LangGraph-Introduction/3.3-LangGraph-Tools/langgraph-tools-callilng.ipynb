{
 "cells": [
  {
   "cell_type": "markdown",
   "id": "9d9e9212",
   "metadata": {},
   "source": [
    "## **Tool Calling**"
   ]
  },
  {
   "cell_type": "code",
   "execution_count": 36,
   "id": "9ecbf0f4",
   "metadata": {},
   "outputs": [],
   "source": [
    "from langchain_groq import ChatGroq\n",
    "from langchain_core.messages import HumanMessage, SystemMessage, AIMessage, AnyMessage, ToolMessage\n",
    "import os\n",
    "from dotenv import load_dotenv\n",
    "load_dotenv()\n",
    "\n",
    "os.environ[\"GROQ_API_KEY\"] = os.getenv(\"GROQ_API_KEY\")"
   ]
  },
  {
   "cell_type": "code",
   "execution_count": 21,
   "id": "49b87066",
   "metadata": {},
   "outputs": [
    {
     "data": {
      "text/plain": [
       "'<think>\\nOkay, the user sent \"Test line.\" I need to figure out how to respond. Since it\\'s a test, maybe they\\'re checking if the system is working. I should acknowledge their message and offer help.\\n\\nI\\'ll start by confirming that I received their test line. Then, ask if they need assistance with anything specific. Keeping it friendly and open-ended makes sense. Let me make sure the response is clear and not too robotic. Yeah, that should work.\\n</think>\\n\\nHello! I see you\\'ve sent a test line. How can I assist you today? 😊'"
      ]
     },
     "execution_count": 21,
     "metadata": {},
     "output_type": "execute_result"
    }
   ],
   "source": [
    "llm = ChatGroq(model=\"qwen/qwen3-32b\")\n",
    "llm.invoke(\n",
    "    [HumanMessage(content=\"Test line.\")]\n",
    ").content"
   ]
  },
  {
   "cell_type": "code",
   "execution_count": 22,
   "id": "3477b487",
   "metadata": {},
   "outputs": [],
   "source": [
    "from langchain_core.tools import tool\n",
    "\n",
    "@tool\n",
    "def add(a: int, b: int) -> int:\n",
    "    \"\"\"this function is responsible for add tow number.\n",
    "    \n",
    "    Args:\n",
    "        a: int\n",
    "        b: int\n",
    "    \n",
    "    and return an integer number.\n",
    "    \"\"\"\n",
    "    \n",
    "    return a + b"
   ]
  },
  {
   "cell_type": "code",
   "execution_count": 23,
   "id": "e915431e",
   "metadata": {},
   "outputs": [],
   "source": [
    "tools = [add]"
   ]
  },
  {
   "cell_type": "code",
   "execution_count": 24,
   "id": "19ebf312",
   "metadata": {},
   "outputs": [],
   "source": [
    "llm_with_tools = llm.bind_tools(tools)"
   ]
  },
  {
   "cell_type": "code",
   "execution_count": 27,
   "id": "d606ac3a",
   "metadata": {},
   "outputs": [
    {
     "data": {
      "text/plain": [
       "AIMessage(content='', additional_kwargs={'tool_calls': [{'id': '3czs0kmyy', 'function': {'arguments': '{\"a\":2,\"b\":5}', 'name': 'add'}, 'type': 'function'}]}, response_metadata={'token_usage': {'completion_tokens': 178, 'prompt_tokens': 158, 'total_tokens': 336, 'completion_time': 0.270021485, 'prompt_time': 0.006019706, 'queue_time': 0.050783174, 'total_time': 0.276041191}, 'model_name': 'qwen/qwen3-32b', 'system_fingerprint': 'fp_8487b76fd3', 'finish_reason': 'tool_calls', 'logprobs': None}, id='run--b2fe2a96-1c90-46a4-aede-350dcbadce84-0', tool_calls=[{'name': 'add', 'args': {'a': 2, 'b': 5}, 'id': '3czs0kmyy', 'type': 'tool_call'}], usage_metadata={'input_tokens': 158, 'output_tokens': 178, 'total_tokens': 336})"
      ]
     },
     "execution_count": 27,
     "metadata": {},
     "output_type": "execute_result"
    }
   ],
   "source": [
    "response = llm_with_tools.invoke(\"Can you add this tow number 2, and 5\")\n",
    "response"
   ]
  },
  {
   "cell_type": "code",
   "execution_count": 28,
   "id": "d56a10d8",
   "metadata": {},
   "outputs": [
    {
     "data": {
      "text/plain": [
       "[{'name': 'add',\n",
       "  'args': {'a': 2, 'b': 5},\n",
       "  'id': '3czs0kmyy',\n",
       "  'type': 'tool_call'}]"
      ]
     },
     "execution_count": 28,
     "metadata": {},
     "output_type": "execute_result"
    }
   ],
   "source": [
    "response.tool_calls"
   ]
  },
  {
   "cell_type": "code",
   "execution_count": 33,
   "id": "d29bbd68",
   "metadata": {},
   "outputs": [
    {
     "data": {
      "text/plain": [
       "{'a': 2, 'b': 5}"
      ]
     },
     "execution_count": 33,
     "metadata": {},
     "output_type": "execute_result"
    }
   ],
   "source": [
    "response.tool_calls[0]['args']"
   ]
  },
  {
   "cell_type": "code",
   "execution_count": 34,
   "id": "1cf906fe",
   "metadata": {},
   "outputs": [
    {
     "data": {
      "text/plain": [
       "7"
      ]
     },
     "execution_count": 34,
     "metadata": {},
     "output_type": "execute_result"
    }
   ],
   "source": [
    "add.invoke(response.tool_calls[0]['args'])"
   ]
  },
  {
   "cell_type": "code",
   "execution_count": 40,
   "id": "487980d0",
   "metadata": {},
   "outputs": [
    {
     "data": {
      "text/plain": [
       "ToolMessage(content='7', name='add', tool_call_id='3czs0kmyy')"
      ]
     },
     "execution_count": 40,
     "metadata": {},
     "output_type": "execute_result"
    }
   ],
   "source": [
    "add.invoke(response.tool_calls[0])"
   ]
  },
  {
   "cell_type": "code",
   "execution_count": 43,
   "id": "8c8cc65b",
   "metadata": {},
   "outputs": [
    {
     "data": {
      "text/plain": [
       "AIMessage(content='The sum of 2 and 5 is 7.', additional_kwargs={}, response_metadata={'token_usage': {'completion_tokens': 112, 'prompt_tokens': 189, 'total_tokens': 301, 'completion_time': 0.225658279, 'prompt_time': 0.007268358, 'queue_time': 0.088723071, 'total_time': 0.232926637}, 'model_name': 'qwen/qwen3-32b', 'system_fingerprint': 'fp_57dfb5ae7c', 'finish_reason': 'stop', 'logprobs': None}, id='run--3702384f-3563-4997-875d-3ac2ecf010e7-0', usage_metadata={'input_tokens': 189, 'output_tokens': 112, 'total_tokens': 301})"
      ]
     },
     "execution_count": 43,
     "metadata": {},
     "output_type": "execute_result"
    }
   ],
   "source": [
    "llm_with_tools.invoke(\n",
    "    [\n",
    "        ToolMessage(\n",
    "        tool_call_id = response.tool_calls[0][\"id\"],\n",
    "        content=response.tool_calls[0]\n",
    "        )\n",
    "    ]\n",
    "    \n",
    ")"
   ]
  },
  {
   "cell_type": "code",
   "execution_count": null,
   "id": "69b8d62f",
   "metadata": {},
   "outputs": [],
   "source": []
  }
 ],
 "metadata": {
  "kernelspec": {
   "display_name": "Python 3",
   "language": "python",
   "name": "python3"
  },
  "language_info": {
   "codemirror_mode": {
    "name": "ipython",
    "version": 3
   },
   "file_extension": ".py",
   "mimetype": "text/x-python",
   "name": "python",
   "nbconvert_exporter": "python",
   "pygments_lexer": "ipython3",
   "version": "3.12.0"
  }
 },
 "nbformat": 4,
 "nbformat_minor": 5
}
